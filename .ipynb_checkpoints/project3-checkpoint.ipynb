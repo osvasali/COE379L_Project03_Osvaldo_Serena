{
 "cells": [
  {
   "cell_type": "markdown",
   "id": "3f675411",
   "metadata": {},
   "source": [
    "# Project 2 Model Classification\n",
    "### Serena Shah, Osvaldo Salinas\n",
    "## Part 1"
   ]
  },
  {
   "cell_type": "markdown",
   "id": "b966bfb7",
   "metadata": {},
   "source": [
    "### Loading the Data"
   ]
  },
  {
   "cell_type": "code",
   "execution_count": 40,
   "id": "87799c56",
   "metadata": {},
   "outputs": [],
   "source": [
    "import os\n",
    "from pathlib import Path\n",
    "\n",
    "Path(\"data/train/damage\").mkdir(parents=True, exist_ok=True)\n",
    "Path(\"data/train/no_damage\").mkdir(parents=True, exist_ok=True)\n",
    "\n",
    "Path(\"data/test/damage\").mkdir(parents=True, exist_ok=True)\n",
    "Path(\"data/test/no_damage\").mkdir(parents=True, exist_ok=True)"
   ]
  },
  {
   "cell_type": "code",
   "execution_count": 41,
   "id": "e93b108e",
   "metadata": {},
   "outputs": [],
   "source": [
    "# we need paths of images for individual classes so we can copy them in the new directories that we created above\n",
    "\n",
    "damage_all_paths = os.listdir('data_all_modified/damage')\n",
    "no_damage_all_paths = os.listdir('data_all_modified/no_damage')"
   ]
  },
  {
   "cell_type": "code",
   "execution_count": 42,
   "id": "6ea54e28",
   "metadata": {},
   "outputs": [
    {
     "name": "stdout",
     "output_type": "stream",
     "text": [
      "...............\n",
      "train damage image count:  11336\n",
      "test damage image count:  2834\n",
      "len of overlap:  0\n",
      "...............\n",
      "\n",
      "...............\n",
      "train no damage image count:  5721\n",
      "test no damage image count:  1431\n",
      "len of overlap:  0\n",
      "...............\n",
      "\n"
     ]
    }
   ],
   "source": [
    "# split the image paths into train and test by randomly selecting 80% of the images in train and 20% in test.\n",
    "import random\n",
    "\n",
    "print(\"...............\")\n",
    "train_damage_paths = random.sample(damage_all_paths, int(len(damage_all_paths)*0.8))\n",
    "print(\"train damage image count: \", len(train_damage_paths))\n",
    "test_damage_paths = [ p for p in damage_all_paths if p not in train_damage_paths]\n",
    "print(\"test damage image count: \", len(test_damage_paths))\n",
    "# ensure no overlap:\n",
    "overlap = [p for p in train_damage_paths if p in test_damage_paths]\n",
    "print(\"len of overlap: \", len(overlap))\n",
    "print(\"...............\\n\")\n",
    "print(\"...............\")\n",
    "train_no_damage_paths = random.sample(no_damage_all_paths, int(len(no_damage_all_paths)*0.8))\n",
    "print(\"train no damage image count: \", len(train_no_damage_paths))\n",
    "test_no_damage_paths = [ p for p in no_damage_all_paths if p not in train_no_damage_paths]\n",
    "print(\"test no damage image count: \", len(test_no_damage_paths))\n",
    "# ensure no overlap:\n",
    "overlap = [p for p in train_no_damage_paths if p in test_no_damage_paths]\n",
    "print(\"len of overlap: \", len(overlap))\n",
    "print(\"...............\\n\")"
   ]
  },
  {
   "cell_type": "code",
   "execution_count": 43,
   "id": "2afad157",
   "metadata": {},
   "outputs": [
    {
     "name": "stdout",
     "output_type": "stream",
     "text": [
      "Files in train/damage:  14149\n",
      "Files in train/no_damage:  7145\n",
      "Files in test/damage:  8331\n",
      "Files in test/no_damage:  4235\n"
     ]
    }
   ],
   "source": [
    "# copying of files in the train and test directories\n",
    "import shutil\n",
    "\n",
    "root_dir = 'data_all_modified'\n",
    "split_root_dir = 'data'\n",
    "\n",
    "# Copy damaged images to train and test directories\n",
    "for p in train_damage_paths:\n",
    "    shutil.copyfile(os.path.join(root_dir, 'damage', p), os.path.join(split_root_dir, 'train/damage', p))\n",
    "\n",
    "for p in test_damage_paths:\n",
    "    shutil.copyfile(os.path.join(root_dir, 'damage', p), os.path.join(split_root_dir, 'test/damage', p))\n",
    "\n",
    "# Copy no damage images to train and test directories\n",
    "for p in train_no_damage_paths:\n",
    "    shutil.copyfile(os.path.join(root_dir, 'no_damage', p), os.path.join(split_root_dir, 'train/no_damage', p))\n",
    "\n",
    "for p in test_no_damage_paths:\n",
    "    shutil.copyfile(os.path.join(root_dir, 'no_damage', p), os.path.join(split_root_dir, 'test/no_damage', p))\n",
    "\n",
    "# Check counts to ensure files are copied correctly\n",
    "print(\"Files in train/damage: \", len(os.listdir(os.path.join(split_root_dir, \"train/damage\"))))\n",
    "print(\"Files in train/no_damage: \", len(os.listdir(os.path.join(split_root_dir, \"train/no_damage\"))))\n",
    "print(\"Files in test/damage: \", len(os.listdir(os.path.join(split_root_dir, \"test/damage\"))))\n",
    "print(\"Files in test/no_damage: \", len(os.listdir(os.path.join(split_root_dir, \"test/no_damage\"))))"
   ]
  },
  {
   "cell_type": "markdown",
   "id": "09d9cb1b",
   "metadata": {},
   "source": [
    "### Data preprocessing"
   ]
  },
  {
   "cell_type": "code",
   "execution_count": 44,
   "id": "8aac95c2",
   "metadata": {},
   "outputs": [
    {
     "name": "stdout",
     "output_type": "stream",
     "text": [
      "Found 21294 files belonging to 2 classes.\n",
      "Using 17036 files for training.\n",
      "Using 4258 files for validation.\n"
     ]
    }
   ],
   "source": [
    "import tensorflow as tf\n",
    "from tensorflow.keras.layers import Rescaling\n",
    "train_data_dir = 'data/train/'\n",
    "\n",
    "batch_size = 32\n",
    "# target image size\n",
    "img_height = 128\n",
    "img_width = 128\n",
    "\n",
    "# note that subset=\"training\", \"validation\", \"both\", and dictates which dataset is returned\n",
    "train_ds, val_ds = tf.keras.utils.image_dataset_from_directory(\n",
    "train_data_dir,\n",
    "validation_split=0.2,\n",
    "subset=\"both\",\n",
    "seed=123,\n",
    "image_size=(img_height, img_width),\n",
    "batch_size=batch_size\n",
    ")\n",
    "rescale = Rescaling(scale=1.0/255)\n",
    "train_rescale_ds = train_ds.map(lambda image,label:(rescale(image),label))\n",
    "val_rescale_ds = val_ds.map(lambda image,label:(rescale(image),label))"
   ]
  },
  {
   "cell_type": "code",
   "execution_count": 45,
   "id": "ac06c011",
   "metadata": {},
   "outputs": [
    {
     "name": "stdout",
     "output_type": "stream",
     "text": [
      "Found 12566 files belonging to 2 classes.\n"
     ]
    }
   ],
   "source": [
    "test_data_dir = 'data/test/'\n",
    "\n",
    "batch_size = 2\n",
    "# target image size\n",
    "img_height = 128\n",
    "img_width = 128\n",
    "\n",
    "# note that subset=\"training\", \"validation\", \"both\", and dictates what is returned\n",
    "test_ds = tf.keras.utils.image_dataset_from_directory(\n",
    "test_data_dir,\n",
    "seed=123,\n",
    "image_size=(img_height, img_width),\n",
    ")\n",
    "\n",
    "# approach 1: manually rescale data --\n",
    "rescale = Rescaling(scale=1.0/255)\n",
    "test_rescale_ds = test_ds.map(lambda image,label:(rescale(image),label))"
   ]
  },
  {
   "cell_type": "markdown",
   "id": "e0b22c86",
   "metadata": {},
   "source": [
    "## Part 2\n",
    "#### ANN"
   ]
  },
  {
   "cell_type": "markdown",
   "id": "3c45e1aa",
   "metadata": {},
   "source": [
    "### VGG16"
   ]
  },
  {
   "cell_type": "code",
   "execution_count": null,
   "id": "34beef48",
   "metadata": {},
   "outputs": [],
   "source": [
    "from keras import layers\n",
    "from keras import models\n",
    "import pandas as pd\n",
    "\n",
    "# Import VGG16 model from Keras applications\n",
    "from keras.applications.vgg16 import VGG16\n",
    "\n",
    "#Load the pre-trained VGG16 model with weights trained on ImageNet\n",
    "vgg_model = VGG16(weights='imagenet', include_top = False, input_shape = (150,150,3))\n",
    "vgg_model.summary()\n",
    "\n",
    "# Making all the layers of the VGG model non-trainable. i.e. freezing them\n",
    "for layer in vgg_model.layers:\n",
    "    layer.trainable = False\n",
    "\n",
    "# Initializing the model\n",
    "new_model = models.Sequential()\n",
    "\n",
    "# Adding the convolutional part of the VGG16 model from above\n",
    "new_model.add(vgg_model)\n",
    "\n",
    "# Flattening the output of the VGG16 model because it is from a convolutional layer\n",
    "new_model.add(layers.Flatten())\n",
    "\n",
    "# Adding a dense input layer\n",
    "new_model.add(layers.Dense(32, activation='relu'))\n",
    "\n",
    "# Adding dropout prevents overfitting\n",
    "new_model.add(layers.Dropout(0.2))\n",
    "\n",
    "# Adding second input layer\n",
    "new_model.add(layers.Dense(32, activation='relu'))\n",
    "\n",
    "# Adding output layer\n",
    "new_model.add(layers.Dense(3, activation='softmax'))\n",
    "\n",
    "# Compiling the model\n",
    "new_model.compile(optimizer='adam', loss='sparse_categorical_crossentropy', metrics=['accuracy'])\n",
    "# Summary of the model\n",
    "new_model.summary()\n",
    "\n",
    "#fit the model from image generator\n",
    "history = new_model.fit(\n",
    "            train_rescale_ds,\n",
    "            batch_size=32,\n",
    "            epochs=20,\n",
    "            validation_data=val_rescale_ds,\n",
    ")\n",
    "\n",
    "test_loss, test_accuracy = new_model.evaluate(test_rescale_ds, verbose=0)"
   ]
  },
  {
   "cell_type": "code",
   "execution_count": 46,
   "id": "e5f27a1e",
   "metadata": {},
   "outputs": [
    {
     "name": "stdout",
     "output_type": "stream",
     "text": [
      "Found 21294 files belonging to 2 classes.\n",
      "Using 17036 files for training.\n",
      "Found 21294 files belonging to 2 classes.\n",
      "Using 4258 files for validation.\n"
     ]
    }
   ],
   "source": [
    "import tensorflow as tf\n",
    "from tensorflow.keras.layers import Rescaling\n",
    "\n",
    "train_data_dir = 'data/train'\n",
    "test_data_dir = 'data/test'  \n",
    "\n",
    "batch_size = 32\n",
    "# target image size\n",
    "img_height = 128\n",
    "img_width = 128\n",
    "\n",
    "# Load training dataset\n",
    "train_ds = tf.keras.utils.image_dataset_from_directory(\n",
    "    train_data_dir,\n",
    "    validation_split=0.2,\n",
    "    subset=\"training\",\n",
    "    seed=123,\n",
    "    image_size=(img_height, img_width),\n",
    "    batch_size=batch_size,\n",
    "    label_mode='binary'  \n",
    ")\n",
    "\n",
    "# Load validation dataset\n",
    "val_ds = tf.keras.utils.image_dataset_from_directory(\n",
    "    train_data_dir,\n",
    "    validation_split=0.2,\n",
    "    subset=\"validation\",\n",
    "    seed=123,\n",
    "    image_size=(img_height, img_width),\n",
    "    batch_size=batch_size,\n",
    "    label_mode='binary'  \n",
    ")\n",
    "\n",
    "# Rescale pixel values from [0, 255] to [0, 1]\n",
    "rescale = Rescaling(scale=1.0/255)\n",
    "train_rescale_ds = train_ds.map(lambda image, label: (rescale(image), label))\n",
    "val_rescale_ds = val_ds.map(lambda image, label: (rescale(image), label))"
   ]
  },
  {
   "cell_type": "markdown",
   "id": "651d6397",
   "metadata": {},
   "source": []
  }
 ],
 "metadata": {
  "kernelspec": {
   "display_name": "Python 3 (ipykernel)",
   "language": "python",
   "name": "python3"
  },
  "language_info": {
   "codemirror_mode": {
    "name": "ipython",
    "version": 3
   },
   "file_extension": ".py",
   "mimetype": "text/x-python",
   "name": "python",
   "nbconvert_exporter": "python",
   "pygments_lexer": "ipython3",
   "version": "3.10.11"
  }
 },
 "nbformat": 4,
 "nbformat_minor": 5
}
