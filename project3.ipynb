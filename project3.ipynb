{
 "cells": [
  {
   "cell_type": "markdown",
   "id": "3f675411",
   "metadata": {},
   "source": [
    "# Project 2 Model Classification\n",
    "### Serena Shah, Osvaldo Salinas\n",
    "## Part 1"
   ]
  },
  {
   "cell_type": "markdown",
   "id": "b966bfb7",
   "metadata": {},
   "source": [
    "### Loading the Data"
   ]
  },
  {
   "cell_type": "code",
   "execution_count": 1,
   "id": "87799c56",
   "metadata": {},
   "outputs": [],
   "source": [
    "import os\n",
    "from pathlib import Path\n",
    "\n",
    "Path(\"data/train/damage\").mkdir(parents=True, exist_ok=True)\n",
    "Path(\"data/train/no_damage\").mkdir(parents=True, exist_ok=True)\n",
    "\n",
    "Path(\"data/test/damage\").mkdir(parents=True, exist_ok=True)\n",
    "Path(\"data/test/no_damage\").mkdir(parents=True, exist_ok=True)"
   ]
  },
  {
   "cell_type": "code",
   "execution_count": 2,
   "id": "e93b108e",
   "metadata": {},
   "outputs": [],
   "source": [
    "# we need paths of images for individual classes so we can copy them in the new directories that we created above\n",
    "\n",
    "damage_all_paths = os.listdir('data_all_modified/damage')\n",
    "no_damage_all_paths = os.listdir('data_all_modified/no_damage')"
   ]
  },
  {
   "cell_type": "code",
   "execution_count": 3,
   "id": "6ea54e28",
   "metadata": {},
   "outputs": [
    {
     "name": "stdout",
     "output_type": "stream",
     "text": [
      "...............\n",
      "train damage image count:  11336\n",
      "test damage image count:  2834\n",
      "len of overlap:  0\n",
      "...............\n",
      "\n",
      "...............\n",
      "train no damage image count:  5721\n",
      "test no damage image count:  1431\n",
      "len of overlap:  0\n",
      "...............\n",
      "\n"
     ]
    }
   ],
   "source": [
    "# split the image paths into train and test by randomly selecting 80% of the images in train and 20% in test.\n",
    "import random\n",
    "\n",
    "print(\"...............\")\n",
    "train_damage_paths = random.sample(damage_all_paths, int(len(damage_all_paths)*0.8))\n",
    "print(\"train damage image count: \", len(train_damage_paths))\n",
    "test_damage_paths = [ p for p in damage_all_paths if p not in train_damage_paths]\n",
    "print(\"test damage image count: \", len(test_damage_paths))\n",
    "# ensure no overlap:\n",
    "overlap = [p for p in train_damage_paths if p in test_damage_paths]\n",
    "print(\"len of overlap: \", len(overlap))\n",
    "print(\"...............\\n\")\n",
    "print(\"...............\")\n",
    "train_no_damage_paths = random.sample(no_damage_all_paths, int(len(no_damage_all_paths)*0.8))\n",
    "print(\"train no damage image count: \", len(train_no_damage_paths))\n",
    "test_no_damage_paths = [ p for p in no_damage_all_paths if p not in train_no_damage_paths]\n",
    "print(\"test no damage image count: \", len(test_no_damage_paths))\n",
    "# ensure no overlap:\n",
    "overlap = [p for p in train_no_damage_paths if p in test_no_damage_paths]\n",
    "print(\"len of overlap: \", len(overlap))\n",
    "print(\"...............\\n\")"
   ]
  },
  {
   "cell_type": "code",
   "execution_count": 4,
   "id": "2afad157",
   "metadata": {},
   "outputs": [
    {
     "name": "stdout",
     "output_type": "stream",
     "text": [
      "Files in train/damage:  14062\n",
      "Files in train/no_damage:  7102\n",
      "Files in test/damage:  6924\n",
      "Files in test/no_damage:  3506\n"
     ]
    }
   ],
   "source": [
    "# copying of files in the train and test directories\n",
    "import shutil\n",
    "\n",
    "root_dir = 'data_all_modified'\n",
    "split_root_dir = 'data'\n",
    "\n",
    "# Copy damaged images to train and test directories\n",
    "for p in train_damage_paths:\n",
    "    shutil.copyfile(os.path.join(root_dir, 'damage', p), os.path.join(split_root_dir, 'train/damage', p))\n",
    "\n",
    "for p in test_damage_paths:\n",
    "    shutil.copyfile(os.path.join(root_dir, 'damage', p), os.path.join(split_root_dir, 'test/damage', p))\n",
    "\n",
    "# Copy no damage images to train and test directories\n",
    "for p in train_no_damage_paths:\n",
    "    shutil.copyfile(os.path.join(root_dir, 'no_damage', p), os.path.join(split_root_dir, 'train/no_damage', p))\n",
    "\n",
    "for p in test_no_damage_paths:\n",
    "    shutil.copyfile(os.path.join(root_dir, 'no_damage', p), os.path.join(split_root_dir, 'test/no_damage', p))\n",
    "\n",
    "# Check counts to ensure files are copied correctly\n",
    "print(\"Files in train/damage: \", len(os.listdir(os.path.join(split_root_dir, \"train/damage\"))))\n",
    "print(\"Files in train/no_damage: \", len(os.listdir(os.path.join(split_root_dir, \"train/no_damage\"))))\n",
    "print(\"Files in test/damage: \", len(os.listdir(os.path.join(split_root_dir, \"test/damage\"))))\n",
    "print(\"Files in test/no_damage: \", len(os.listdir(os.path.join(split_root_dir, \"test/no_damage\"))))"
   ]
  },
  {
   "cell_type": "markdown",
   "id": "09d9cb1b",
   "metadata": {},
   "source": [
    "### Data preprocessing"
   ]
  },
  {
   "cell_type": "code",
   "execution_count": 5,
   "id": "8aac95c2",
   "metadata": {},
   "outputs": [
    {
     "name": "stderr",
     "output_type": "stream",
     "text": [
      "2024-04-11 00:16:23.122876: I tensorflow/core/util/port.cc:113] oneDNN custom operations are on. You may see slightly different numerical results due to floating-point round-off errors from different computation orders. To turn them off, set the environment variable `TF_ENABLE_ONEDNN_OPTS=0`.\n",
      "2024-04-11 00:16:23.193370: I external/local_tsl/tsl/cuda/cudart_stub.cc:31] Could not find cuda drivers on your machine, GPU will not be used.\n",
      "2024-04-11 00:16:23.576842: E external/local_xla/xla/stream_executor/cuda/cuda_dnn.cc:9261] Unable to register cuDNN factory: Attempting to register factory for plugin cuDNN when one has already been registered\n",
      "2024-04-11 00:16:23.576921: E external/local_xla/xla/stream_executor/cuda/cuda_fft.cc:607] Unable to register cuFFT factory: Attempting to register factory for plugin cuFFT when one has already been registered\n",
      "2024-04-11 00:16:23.644887: E external/local_xla/xla/stream_executor/cuda/cuda_blas.cc:1515] Unable to register cuBLAS factory: Attempting to register factory for plugin cuBLAS when one has already been registered\n",
      "2024-04-11 00:16:23.799908: I external/local_tsl/tsl/cuda/cudart_stub.cc:31] Could not find cuda drivers on your machine, GPU will not be used.\n",
      "2024-04-11 00:16:23.802055: I tensorflow/core/platform/cpu_feature_guard.cc:182] This TensorFlow binary is optimized to use available CPU instructions in performance-critical operations.\n",
      "To enable the following instructions: AVX2 AVX_VNNI FMA, in other operations, rebuild TensorFlow with the appropriate compiler flags.\n",
      "2024-04-11 00:16:28.471347: W tensorflow/compiler/tf2tensorrt/utils/py_utils.cc:38] TF-TRT Warning: Could not find TensorRT\n"
     ]
    },
    {
     "name": "stdout",
     "output_type": "stream",
     "text": [
      "Found 21164 files belonging to 2 classes.\n",
      "Using 16932 files for training.\n",
      "Using 4232 files for validation.\n"
     ]
    }
   ],
   "source": [
    "import tensorflow as tf\n",
    "from tensorflow.keras.layers import Rescaling\n",
    "train_data_dir = 'data/train/'\n",
    "\n",
    "batch_size = 32\n",
    "# target image size\n",
    "img_height = 128\n",
    "img_width = 128\n",
    "\n",
    "# note that subset=\"training\", \"validation\", \"both\", and dictates which dataset is returned\n",
    "train_ds, val_ds = tf.keras.utils.image_dataset_from_directory(\n",
    "train_data_dir,\n",
    "validation_split=0.2,\n",
    "subset=\"both\",\n",
    "seed=123,\n",
    "image_size=(img_height, img_width),\n",
    "batch_size=batch_size\n",
    ")\n",
    "rescale = Rescaling(scale=1.0/255)\n",
    "train_rescale_ds = train_ds.map(lambda image,label:(rescale(image),label))\n",
    "val_rescale_ds = val_ds.map(lambda image,label:(rescale(image),label))"
   ]
  },
  {
   "cell_type": "code",
   "execution_count": 6,
   "id": "ac06c011",
   "metadata": {},
   "outputs": [
    {
     "name": "stdout",
     "output_type": "stream",
     "text": [
      "Found 10430 files belonging to 2 classes.\n"
     ]
    }
   ],
   "source": [
    "test_data_dir = 'data/test/'\n",
    "\n",
    "batch_size = 2\n",
    "# target image size\n",
    "img_height = 128\n",
    "img_width = 128\n",
    "\n",
    "# note that subset=\"training\", \"validation\", \"both\", and dictates what is returned\n",
    "test_ds = tf.keras.utils.image_dataset_from_directory(\n",
    "test_data_dir,\n",
    "seed=123,\n",
    "image_size=(img_height, img_width),\n",
    ")\n",
    "\n",
    "# approach 1: manually rescale data --\n",
    "rescale = Rescaling(scale=1.0/255)\n",
    "test_rescale_ds = test_ds.map(lambda image,label:(rescale(image),label))"
   ]
  },
  {
   "cell_type": "markdown",
   "id": "e0b22c86",
   "metadata": {},
   "source": [
    "## Part 2\n",
    "### ANN"
   ]
  },
  {
   "cell_type": "code",
   "execution_count": 23,
   "id": "71695af5",
   "metadata": {},
   "outputs": [
    {
     "name": "stdout",
     "output_type": "stream",
     "text": [
      "Model: \"sequential_14\"\n",
      "_________________________________________________________________\n",
      " Layer (type)                Output Shape              Param #   \n",
      "=================================================================\n",
      " flatten_14 (Flatten)        (None, 49152)             0         \n",
      "                                                                 \n",
      " dense_42 (Dense)            (None, 120)               5898360   \n",
      "                                                                 \n",
      " dense_43 (Dense)            (None, 128)               15488     \n",
      "                                                                 \n",
      " dense_44 (Dense)            (None, 1)                 129       \n",
      "                                                                 \n",
      "=================================================================\n",
      "Total params: 5913977 (22.56 MB)\n",
      "Trainable params: 5913977 (22.56 MB)\n",
      "Non-trainable params: 0 (0.00 Byte)\n",
      "_________________________________________________________________\n"
     ]
    }
   ],
   "source": [
    "from keras.models import Sequential\n",
    "from keras.layers import Dense, Flatten\n",
    "\n",
    "model_ann = Sequential()\n",
    "\n",
    "# Flatten\n",
    "model_ann.add(Flatten(input_shape=(img_height, img_width, 3)))\n",
    "\n",
    "# Our input layer can have any number of perceptrons, we chose 2, however,\n",
    "# the input dimension must match the number of features in the independent variable -- therefore, we set\n",
    "# it to 4\n",
    "model_ann.add(Dense(120, input_shape = (img_height*img_width,), activation='relu'))\n",
    "\n",
    "# we can add any number of hidden layers with any number of perceptrons; here we choose 1 layer with 128 perceptrons. The\n",
    "# hidden layers should all use RELU\n",
    "model_ann.add(Dense(128, activation='relu'))\n",
    "\n",
    "# softmax activation function is selected for multi-label classification problems; there are 3 perceptrons in this\n",
    "# last layer because there are 2 target labels to predict (it matches the shape of y)\n",
    "model_ann.add(Dense(1, activation='sigmoid'))\n",
    "\n",
    "# compile model\n",
    "model_ann.compile(optimizer='adam', loss='categorical_crossentropy', metrics=['accuracy'])\n",
    "\n",
    "# generating summary of model\n",
    "model_ann.summary()"
   ]
  },
  {
   "cell_type": "code",
   "execution_count": 24,
   "id": "b390b1b7-44aa-4ea3-aeb5-602975773f9f",
   "metadata": {},
   "outputs": [
    {
     "name": "stdout",
     "output_type": "stream",
     "text": [
      "Epoch 1/20\n"
     ]
    },
    {
     "name": "stderr",
     "output_type": "stream",
     "text": [
      "/usr/local/lib/python3.11/site-packages/tensorflow/python/util/dispatch.py:1260: SyntaxWarning: In loss categorical_crossentropy, expected y_pred.shape to be (batch_size, num_classes) with num_classes > 1. Received: y_pred.shape=(None, 1). Consider using 'binary_crossentropy' if you only have 2 classes.\n",
      "  return dispatch_target(*args, **kwargs)\n"
     ]
    },
    {
     "name": "stdout",
     "output_type": "stream",
     "text": [
      "530/530 [==============================] - 44s 82ms/step - loss: 0.0000e+00 - accuracy: 0.6678 - val_loss: 0.0000e+00 - val_accuracy: 0.6486\n",
      "Epoch 2/20\n",
      "530/530 [==============================] - 38s 72ms/step - loss: 0.0000e+00 - accuracy: 0.6684 - val_loss: 0.0000e+00 - val_accuracy: 0.6486\n",
      "Epoch 3/20\n",
      "530/530 [==============================] - 35s 65ms/step - loss: 0.0000e+00 - accuracy: 0.6684 - val_loss: 0.0000e+00 - val_accuracy: 0.6486\n",
      "Epoch 4/20\n",
      "530/530 [==============================] - 32s 59ms/step - loss: 0.0000e+00 - accuracy: 0.6684 - val_loss: 0.0000e+00 - val_accuracy: 0.6486\n",
      "Epoch 5/20\n",
      "530/530 [==============================] - 37s 69ms/step - loss: 0.0000e+00 - accuracy: 0.6684 - val_loss: 0.0000e+00 - val_accuracy: 0.6486\n",
      "Epoch 6/20\n",
      "530/530 [==============================] - 37s 70ms/step - loss: 0.0000e+00 - accuracy: 0.6684 - val_loss: 0.0000e+00 - val_accuracy: 0.6486\n",
      "Epoch 7/20\n",
      "530/530 [==============================] - 36s 67ms/step - loss: 0.0000e+00 - accuracy: 0.6684 - val_loss: 0.0000e+00 - val_accuracy: 0.6486\n",
      "Epoch 8/20\n",
      "530/530 [==============================] - 34s 64ms/step - loss: 0.0000e+00 - accuracy: 0.6684 - val_loss: 0.0000e+00 - val_accuracy: 0.6486\n",
      "Epoch 9/20\n",
      "530/530 [==============================] - 34s 63ms/step - loss: 0.0000e+00 - accuracy: 0.6684 - val_loss: 0.0000e+00 - val_accuracy: 0.6486\n",
      "Epoch 10/20\n",
      "530/530 [==============================] - 32s 61ms/step - loss: 0.0000e+00 - accuracy: 0.6684 - val_loss: 0.0000e+00 - val_accuracy: 0.6486\n",
      "Epoch 11/20\n",
      "530/530 [==============================] - 34s 64ms/step - loss: 0.0000e+00 - accuracy: 0.6684 - val_loss: 0.0000e+00 - val_accuracy: 0.6486\n",
      "Epoch 12/20\n",
      "530/530 [==============================] - 33s 62ms/step - loss: 0.0000e+00 - accuracy: 0.6684 - val_loss: 0.0000e+00 - val_accuracy: 0.6486\n",
      "Epoch 13/20\n",
      "530/530 [==============================] - 34s 64ms/step - loss: 0.0000e+00 - accuracy: 0.6684 - val_loss: 0.0000e+00 - val_accuracy: 0.6486\n",
      "Epoch 14/20\n",
      "530/530 [==============================] - 32s 59ms/step - loss: 0.0000e+00 - accuracy: 0.6684 - val_loss: 0.0000e+00 - val_accuracy: 0.6486\n",
      "Epoch 15/20\n",
      "530/530 [==============================] - 35s 66ms/step - loss: 0.0000e+00 - accuracy: 0.6684 - val_loss: 0.0000e+00 - val_accuracy: 0.6486\n",
      "Epoch 16/20\n",
      "530/530 [==============================] - 37s 69ms/step - loss: 0.0000e+00 - accuracy: 0.6684 - val_loss: 0.0000e+00 - val_accuracy: 0.6486\n",
      "Epoch 17/20\n",
      "530/530 [==============================] - 36s 68ms/step - loss: 0.0000e+00 - accuracy: 0.6684 - val_loss: 0.0000e+00 - val_accuracy: 0.6486\n",
      "Epoch 18/20\n",
      "530/530 [==============================] - 36s 68ms/step - loss: 0.0000e+00 - accuracy: 0.6684 - val_loss: 0.0000e+00 - val_accuracy: 0.6486\n",
      "Epoch 19/20\n",
      "530/530 [==============================] - 38s 72ms/step - loss: 0.0000e+00 - accuracy: 0.6684 - val_loss: 0.0000e+00 - val_accuracy: 0.6486\n",
      "Epoch 20/20\n",
      "530/530 [==============================] - 34s 64ms/step - loss: 0.0000e+00 - accuracy: 0.6684 - val_loss: 0.0000e+00 - val_accuracy: 0.6486\n"
     ]
    }
   ],
   "source": [
    "#fit the model from image generator\n",
    "history_ann = model_ann.fit(\n",
    "            train_rescale_ds,\n",
    "            batch_size=32,\n",
    "            epochs=20,\n",
    "            validation_data=val_rescale_ds\n",
    ")"
   ]
  },
  {
   "cell_type": "code",
   "execution_count": 25,
   "id": "d0e1754d-f754-4ef2-80c9-b8c7480594a9",
   "metadata": {},
   "outputs": [
    {
     "data": {
      "text/plain": [
       "0.6638542413711548"
      ]
     },
     "execution_count": 25,
     "metadata": {},
     "output_type": "execute_result"
    }
   ],
   "source": [
    "test_loss_ann, test_accuracy_ann = model_ann.evaluate(test_rescale_ds, verbose=0)\n",
    "test_accuracy_ann"
   ]
  },
  {
   "cell_type": "code",
   "execution_count": 26,
   "id": "b823b71e-8bff-4c0e-bc66-a29be96ca2ba",
   "metadata": {},
   "outputs": [],
   "source": [
    "model_ann.save(\"models/ann.keras\")"
   ]
  },
  {
   "cell_type": "markdown",
   "id": "44e13dc8-ede4-4201-909d-1a7df6ffa33a",
   "metadata": {},
   "source": [
    "### LeNet-5"
   ]
  },
  {
   "cell_type": "code",
   "execution_count": 27,
   "id": "e077cdd0-fcd9-4438-9bf7-0b11fddd3328",
   "metadata": {},
   "outputs": [
    {
     "name": "stdout",
     "output_type": "stream",
     "text": [
      "Model: \"sequential_15\"\n",
      "_________________________________________________________________\n",
      " Layer (type)                Output Shape              Param #   \n",
      "=================================================================\n",
      " conv2d_24 (Conv2D)          (None, 126, 126, 6)       168       \n",
      "                                                                 \n",
      " average_pooling2d_12 (Aver  (None, 63, 63, 6)         0         \n",
      " agePooling2D)                                                   \n",
      "                                                                 \n",
      " conv2d_25 (Conv2D)          (None, 61, 61, 16)        880       \n",
      "                                                                 \n",
      " average_pooling2d_13 (Aver  (None, 30, 30, 16)        0         \n",
      " agePooling2D)                                                   \n",
      "                                                                 \n",
      " flatten_15 (Flatten)        (None, 14400)             0         \n",
      "                                                                 \n",
      " dense_45 (Dense)            (None, 120)               1728120   \n",
      "                                                                 \n",
      " dense_46 (Dense)            (None, 84)                10164     \n",
      "                                                                 \n",
      " dense_47 (Dense)            (None, 3)                 255       \n",
      "                                                                 \n",
      "=================================================================\n",
      "Total params: 1739587 (6.64 MB)\n",
      "Trainable params: 1739587 (6.64 MB)\n",
      "Non-trainable params: 0 (0.00 Byte)\n",
      "_________________________________________________________________\n"
     ]
    }
   ],
   "source": [
    "from keras.models import Sequential\n",
    "from keras.layers import Dense, Flatten\n",
    "from keras.optimizers import RMSprop\n",
    "import pandas as pd\n",
    "\n",
    "model_lenet5 = models.Sequential()\n",
    "\n",
    "# Layer 1: Convolutional layer with 6 filters of size 3x3, followed by average pooling\n",
    "model_lenet5.add(layers.Conv2D(6, kernel_size=(3, 3), activation='relu', input_shape=(128,128,3)))\n",
    "model_lenet5.add(layers.AveragePooling2D(pool_size=(2, 2)))\n",
    "\n",
    "# Layer 2: Convolutional layer with 16 filters of size 3x3, followed by average pooling\n",
    "model_lenet5.add(layers.Conv2D(16, kernel_size=(3, 3), activation='relu'))\n",
    "model_lenet5.add(layers.AveragePooling2D(pool_size=(2, 2)))\n",
    "\n",
    "# Flatten the feature maps to feed into fully connected layers\n",
    "model_lenet5.add(layers.Flatten())\n",
    "\n",
    "# Layer 3: Fully connected layer with 120 neurons\n",
    "model_lenet5.add(layers.Dense(120, activation='relu'))\n",
    "\n",
    "# Layer 4: Fully connected layer with 84 neurons\n",
    "model_lenet5.add(layers.Dense(84, activation='relu'))\n",
    "\n",
    "# Output layer: Fully connected layer with num_classes neurons (e.g., 3 )\n",
    "model_lenet5.add(layers.Dense(3, activation='softmax'))\n",
    "\n",
    "# Compile model\n",
    "model_lenet5.compile(optimizer=RMSprop(learning_rate=1e-4), loss='sparse_categorical_crossentropy', metrics=['accuracy'])\n",
    "\n",
    "# Generating the summary of the model\n",
    "model_lenet5.summary()"
   ]
  },
  {
   "cell_type": "code",
   "execution_count": 28,
   "id": "d46f4c95-b6d4-42a7-99cf-ecafcfbeff50",
   "metadata": {},
   "outputs": [
    {
     "name": "stdout",
     "output_type": "stream",
     "text": [
      "Epoch 1/20\n",
      "530/530 [==============================] - 23s 42ms/step - loss: 0.6043 - accuracy: 0.6919 - val_loss: 0.7452 - val_accuracy: 0.6498\n",
      "Epoch 2/20\n",
      "530/530 [==============================] - 29s 54ms/step - loss: 0.5020 - accuracy: 0.7684 - val_loss: 0.6439 - val_accuracy: 0.6812\n",
      "Epoch 3/20\n",
      "530/530 [==============================] - 24s 46ms/step - loss: 0.4373 - accuracy: 0.8157 - val_loss: 0.4048 - val_accuracy: 0.8296\n",
      "Epoch 4/20\n",
      "530/530 [==============================] - 33s 61ms/step - loss: 0.4026 - accuracy: 0.8375 - val_loss: 0.4826 - val_accuracy: 0.7833\n",
      "Epoch 5/20\n",
      "530/530 [==============================] - 27s 50ms/step - loss: 0.3819 - accuracy: 0.8514 - val_loss: 0.5876 - val_accuracy: 0.7472\n",
      "Epoch 6/20\n",
      "530/530 [==============================] - 30s 56ms/step - loss: 0.3614 - accuracy: 0.8596 - val_loss: 0.3471 - val_accuracy: 0.8575\n",
      "Epoch 7/20\n",
      "530/530 [==============================] - 28s 52ms/step - loss: 0.3412 - accuracy: 0.8666 - val_loss: 0.3207 - val_accuracy: 0.8759\n",
      "Epoch 8/20\n",
      "530/530 [==============================] - 29s 54ms/step - loss: 0.3224 - accuracy: 0.8753 - val_loss: 0.3139 - val_accuracy: 0.8717\n",
      "Epoch 9/20\n",
      "530/530 [==============================] - 26s 48ms/step - loss: 0.3059 - accuracy: 0.8806 - val_loss: 0.2977 - val_accuracy: 0.8785\n",
      "Epoch 10/20\n",
      "530/530 [==============================] - 26s 49ms/step - loss: 0.2889 - accuracy: 0.8855 - val_loss: 0.2808 - val_accuracy: 0.8908\n",
      "Epoch 11/20\n",
      "530/530 [==============================] - 25s 46ms/step - loss: 0.2751 - accuracy: 0.8920 - val_loss: 0.2584 - val_accuracy: 0.8965\n",
      "Epoch 12/20\n",
      "530/530 [==============================] - 23s 43ms/step - loss: 0.2591 - accuracy: 0.8959 - val_loss: 0.2588 - val_accuracy: 0.8960\n",
      "Epoch 13/20\n",
      "530/530 [==============================] - 30s 56ms/step - loss: 0.2469 - accuracy: 0.9028 - val_loss: 0.4273 - val_accuracy: 0.8270\n",
      "Epoch 14/20\n",
      "530/530 [==============================] - 28s 52ms/step - loss: 0.2317 - accuracy: 0.9115 - val_loss: 0.6159 - val_accuracy: 0.6926\n",
      "Epoch 15/20\n",
      "530/530 [==============================] - 27s 50ms/step - loss: 0.2216 - accuracy: 0.9116 - val_loss: 0.2887 - val_accuracy: 0.8811\n",
      "Epoch 16/20\n",
      "530/530 [==============================] - 25s 47ms/step - loss: 0.2080 - accuracy: 0.9188 - val_loss: 0.3073 - val_accuracy: 0.8689\n",
      "Epoch 17/20\n",
      "530/530 [==============================] - 26s 49ms/step - loss: 0.1957 - accuracy: 0.9254 - val_loss: 0.2300 - val_accuracy: 0.9083\n",
      "Epoch 18/20\n",
      "530/530 [==============================] - 24s 46ms/step - loss: 0.1860 - accuracy: 0.9279 - val_loss: 0.2870 - val_accuracy: 0.8835\n",
      "Epoch 19/20\n",
      "530/530 [==============================] - 24s 45ms/step - loss: 0.1759 - accuracy: 0.9314 - val_loss: 0.3195 - val_accuracy: 0.8698\n",
      "Epoch 20/20\n",
      "530/530 [==============================] - 26s 49ms/step - loss: 0.1660 - accuracy: 0.9353 - val_loss: 0.1988 - val_accuracy: 0.9241\n"
     ]
    }
   ],
   "source": [
    "#fit the model from image generator\n",
    "history = model_lenet5.fit(\n",
    "            train_rescale_ds,\n",
    "            batch_size=32,\n",
    "            epochs=20,\n",
    "            validation_data=val_rescale_ds\n",
    ")"
   ]
  },
  {
   "cell_type": "markdown",
   "id": "a345e710-0833-4660-8e47-4816aafe2bc5",
   "metadata": {},
   "source": [
    "The Lenet-5 model accuracy is shown below."
   ]
  },
  {
   "cell_type": "code",
   "execution_count": 29,
   "id": "a04ec671-19a0-46a5-9d78-394b237ecd28",
   "metadata": {},
   "outputs": [
    {
     "data": {
      "text/plain": [
       "0.9396932125091553"
      ]
     },
     "execution_count": 29,
     "metadata": {},
     "output_type": "execute_result"
    }
   ],
   "source": [
    "test_loss_lenet5, test_accuracy_lenet5 = model_lenet5.evaluate(test_rescale_ds, verbose=0)\n",
    "test_accuracy_lenet5"
   ]
  },
  {
   "cell_type": "code",
   "execution_count": 30,
   "id": "be9acbde-1967-4686-859a-5d2ecdcbcd96",
   "metadata": {},
   "outputs": [],
   "source": [
    "model_lenet5.save(\"models/lenet5.keras\")"
   ]
  },
  {
   "cell_type": "markdown",
   "id": "3f59fea5-15c6-4906-b464-b39c2200cb61",
   "metadata": {},
   "source": [
    "### Alt LeNet-5"
   ]
  },
  {
   "cell_type": "code",
   "execution_count": 31,
   "id": "c459c1dc-94f1-4187-b93e-5fa3d15827e0",
   "metadata": {},
   "outputs": [
    {
     "name": "stdout",
     "output_type": "stream",
     "text": [
      "Model: \"sequential_16\"\n",
      "_________________________________________________________________\n",
      " Layer (type)                Output Shape              Param #   \n",
      "=================================================================\n",
      " conv2d_26 (Conv2D)          (None, 126, 126, 32)      896       \n",
      "                                                                 \n",
      " max_pooling2d_12 (MaxPooli  (None, 63, 63, 32)        0         \n",
      " ng2D)                                                           \n",
      "                                                                 \n",
      " conv2d_27 (Conv2D)          (None, 61, 61, 64)        18496     \n",
      "                                                                 \n",
      " max_pooling2d_13 (MaxPooli  (None, 30, 30, 64)        0         \n",
      " ng2D)                                                           \n",
      "                                                                 \n",
      " conv2d_28 (Conv2D)          (None, 28, 28, 128)       73856     \n",
      "                                                                 \n",
      " max_pooling2d_14 (MaxPooli  (None, 14, 14, 128)       0         \n",
      " ng2D)                                                           \n",
      "                                                                 \n",
      " conv2d_29 (Conv2D)          (None, 12, 12, 128)       147584    \n",
      "                                                                 \n",
      " max_pooling2d_15 (MaxPooli  (None, 6, 6, 128)         0         \n",
      " ng2D)                                                           \n",
      "                                                                 \n",
      " flatten_16 (Flatten)        (None, 4608)              0         \n",
      "                                                                 \n",
      " dropout_3 (Dropout)         (None, 4608)              0         \n",
      "                                                                 \n",
      " dense_48 (Dense)            (None, 120)               553080    \n",
      "                                                                 \n",
      " dense_49 (Dense)            (None, 84)                10164     \n",
      "                                                                 \n",
      " dense_50 (Dense)            (None, 3)                 255       \n",
      "                                                                 \n",
      "=================================================================\n",
      "Total params: 804331 (3.07 MB)\n",
      "Trainable params: 804331 (3.07 MB)\n",
      "Non-trainable params: 0 (0.00 Byte)\n",
      "_________________________________________________________________\n"
     ]
    }
   ],
   "source": [
    "from keras.optimizers import RMSprop\n",
    "import pandas as pd\n",
    "\n",
    "model_altlenet = models.Sequential()\n",
    "\n",
    "# Layer 1: Convolutional layer with 32 filters of size 3x3, followed by max pooling\n",
    "model_altlenet.add(layers.Conv2D(32, kernel_size=(3, 3), activation='relu', input_shape=(128,128,3)))\n",
    "model_altlenet.add(layers.MaxPooling2D(pool_size=(2, 2)))\n",
    "\n",
    "# Layer 2: Convolutional layer with 64 filters of size 3x3, followed by max pooling\n",
    "model_altlenet.add(layers.Conv2D(64, kernel_size=(3, 3), activation='relu'))\n",
    "model_altlenet.add(layers.MaxPooling2D(pool_size=(2, 2)))\n",
    "\n",
    "# Layer 3: Convolutional layer with 128 filters of size 3x3, followed by max pooling\n",
    "model_altlenet.add(layers.Conv2D(128, kernel_size=(3, 3), activation='relu'))\n",
    "model_altlenet.add(layers.MaxPooling2D(pool_size=(2, 2)))\n",
    "\n",
    "# Layer 4: Convolutional layer with 128 filters of size 3x3, followed by max pooling\n",
    "model_altlenet.add(layers.Conv2D(128, kernel_size=(3, 3), activation='relu'))\n",
    "model_altlenet.add(layers.MaxPooling2D(pool_size=(2, 2)))\n",
    "\n",
    "# Flatten the feature maps to feed into fully connected layers\n",
    "model_altlenet.add(layers.Flatten())\n",
    "\n",
    "# Adding dropout prevents overfitting\n",
    "model_altlenet.add(layers.Dropout(0.2))\n",
    "\n",
    "# Layer 5: Fully connected layer with 120 neurons\n",
    "model_altlenet.add(layers.Dense(120, activation='relu'))\n",
    "\n",
    "# Layer 6: Fully connected layer with 84 neurons\n",
    "model_altlenet.add(layers.Dense(84, activation='relu'))\n",
    "\n",
    "# Output layer: Fully connected layer with num_classes neurons (e.g., 3 )\n",
    "model_altlenet.add(layers.Dense(3, activation='softmax'))\n",
    "\n",
    "# Compile model\n",
    "model_altlenet.compile(optimizer=RMSprop(learning_rate=1e-4), loss='sparse_categorical_crossentropy', metrics=['accuracy'])\n",
    "\n",
    "# Generating the summary of the model\n",
    "model_altlenet.summary()"
   ]
  },
  {
   "cell_type": "code",
   "execution_count": 32,
   "id": "55c0a9d0-e5d9-462a-a49c-e42c90fa885f",
   "metadata": {},
   "outputs": [
    {
     "name": "stdout",
     "output_type": "stream",
     "text": [
      "Epoch 1/20\n",
      "530/530 [==============================] - 122s 228ms/step - loss: 0.5792 - accuracy: 0.7196 - val_loss: 0.4149 - val_accuracy: 0.8384\n",
      "Epoch 2/20\n",
      "530/530 [==============================] - 125s 235ms/step - loss: 0.4102 - accuracy: 0.8254 - val_loss: 0.3337 - val_accuracy: 0.8741\n",
      "Epoch 3/20\n",
      "530/530 [==============================] - 114s 214ms/step - loss: 0.3139 - accuracy: 0.8747 - val_loss: 0.2760 - val_accuracy: 0.9012\n",
      "Epoch 4/20\n",
      "530/530 [==============================] - 108s 203ms/step - loss: 0.2303 - accuracy: 0.9101 - val_loss: 0.2001 - val_accuracy: 0.9227\n",
      "Epoch 5/20\n",
      "530/530 [==============================] - 109s 206ms/step - loss: 0.1808 - accuracy: 0.9282 - val_loss: 0.1369 - val_accuracy: 0.9428\n",
      "Epoch 6/20\n",
      "530/530 [==============================] - 137s 259ms/step - loss: 0.1480 - accuracy: 0.9409 - val_loss: 0.2892 - val_accuracy: 0.8918\n",
      "Epoch 7/20\n",
      "530/530 [==============================] - 159s 299ms/step - loss: 0.1282 - accuracy: 0.9489 - val_loss: 0.3160 - val_accuracy: 0.8745\n",
      "Epoch 8/20\n",
      "530/530 [==============================] - 123s 232ms/step - loss: 0.1139 - accuracy: 0.9530 - val_loss: 0.1025 - val_accuracy: 0.9594\n",
      "Epoch 9/20\n",
      "530/530 [==============================] - 125s 235ms/step - loss: 0.1063 - accuracy: 0.9579 - val_loss: 0.0983 - val_accuracy: 0.9617\n",
      "Epoch 10/20\n",
      "530/530 [==============================] - 115s 217ms/step - loss: 0.0955 - accuracy: 0.9619 - val_loss: 0.0908 - val_accuracy: 0.9612\n",
      "Epoch 11/20\n",
      "530/530 [==============================] - 130s 245ms/step - loss: 0.0880 - accuracy: 0.9652 - val_loss: 0.0978 - val_accuracy: 0.9634\n",
      "Epoch 12/20\n",
      "530/530 [==============================] - 118s 222ms/step - loss: 0.0823 - accuracy: 0.9686 - val_loss: 0.0890 - val_accuracy: 0.9672\n",
      "Epoch 13/20\n",
      "530/530 [==============================] - 110s 206ms/step - loss: 0.0791 - accuracy: 0.9705 - val_loss: 0.0734 - val_accuracy: 0.9698\n",
      "Epoch 14/20\n",
      "530/530 [==============================] - 115s 216ms/step - loss: 0.0716 - accuracy: 0.9720 - val_loss: 0.1616 - val_accuracy: 0.9440\n",
      "Epoch 15/20\n",
      "530/530 [==============================] - 117s 220ms/step - loss: 0.0664 - accuracy: 0.9767 - val_loss: 0.0731 - val_accuracy: 0.9719\n",
      "Epoch 16/20\n",
      "530/530 [==============================] - 127s 240ms/step - loss: 0.0625 - accuracy: 0.9758 - val_loss: 0.1309 - val_accuracy: 0.9605\n",
      "Epoch 17/20\n",
      "530/530 [==============================] - 118s 223ms/step - loss: 0.0599 - accuracy: 0.9786 - val_loss: 0.2704 - val_accuracy: 0.9149\n",
      "Epoch 18/20\n",
      "530/530 [==============================] - 122s 230ms/step - loss: 0.0558 - accuracy: 0.9794 - val_loss: 0.0840 - val_accuracy: 0.9719\n",
      "Epoch 19/20\n",
      "530/530 [==============================] - 119s 224ms/step - loss: 0.0538 - accuracy: 0.9805 - val_loss: 0.0974 - val_accuracy: 0.9681\n",
      "Epoch 20/20\n",
      "530/530 [==============================] - 126s 238ms/step - loss: 0.0491 - accuracy: 0.9823 - val_loss: 0.0759 - val_accuracy: 0.9738\n"
     ]
    }
   ],
   "source": [
    "#fit the model from image generator\n",
    "history_altlenet = model_altlenet.fit(\n",
    "            train_rescale_ds,\n",
    "            batch_size=32,\n",
    "            epochs=20,\n",
    "            validation_data=val_rescale_ds\n",
    ")"
   ]
  },
  {
   "cell_type": "code",
   "execution_count": 33,
   "id": "0702bbfb-e618-481c-a6e6-9c4ae5071046",
   "metadata": {},
   "outputs": [
    {
     "data": {
      "text/plain": [
       "0.9832214713096619"
      ]
     },
     "execution_count": 33,
     "metadata": {},
     "output_type": "execute_result"
    }
   ],
   "source": [
    "test_loss_altlenet, test_accuracy_altlenet = model_altlenet.evaluate(test_rescale_ds, verbose=0)\n",
    "test_accuracy_altlenet"
   ]
  },
  {
   "cell_type": "code",
   "execution_count": 34,
   "id": "479f2e50-5d81-4e73-b2aa-3db1ea43d0f4",
   "metadata": {},
   "outputs": [],
   "source": [
    "model_lenet5.save(\"models/altlenet.keras\")"
   ]
  },
  {
   "cell_type": "markdown",
   "id": "ad953404-bf57-4749-af8c-46a80ebafc1c",
   "metadata": {},
   "source": [
    "## Part 3"
   ]
  },
  {
   "cell_type": "code",
   "execution_count": 63,
   "id": "2451793f-153b-46b5-8b71-cceef9661942",
   "metadata": {},
   "outputs": [],
   "source": [
    "import requests"
   ]
  },
  {
   "cell_type": "code",
   "execution_count": 60,
   "id": "9bd6d80a-c541-4fe2-a903-e4783a8afe64",
   "metadata": {},
   "outputs": [],
   "source": [
    "import numpy as np\n",
    "# grab an entry from  -- here, we grab the first one\n",
    "iterator = iter(test_rescale_ds)\n",
    "\n",
    "type(train_rescale_ds)\n",
    "#numpy_train = np.array(list(homogenous_dataset.as_numpy_iterator()))\n",
    "l = iterator.get_next()[0].numpy().tolist()"
   ]
  },
  {
   "cell_type": "code",
   "execution_count": 62,
   "id": "a7cf6eaf-43e5-4f07-b095-a39d62c36293",
   "metadata": {},
   "outputs": [
    {
     "ename": "JSONDecodeError",
     "evalue": "Expecting value: line 1 column 1 (char 0)",
     "output_type": "error",
     "traceback": [
      "\u001b[0;31m---------------------------------------------------------------------------\u001b[0m",
      "\u001b[0;31mJSONDecodeError\u001b[0m                           Traceback (most recent call last)",
      "File \u001b[0;32m/usr/local/lib/python3.11/site-packages/requests/models.py:971\u001b[0m, in \u001b[0;36mResponse.json\u001b[0;34m(self, **kwargs)\u001b[0m\n\u001b[1;32m    970\u001b[0m \u001b[38;5;28;01mtry\u001b[39;00m:\n\u001b[0;32m--> 971\u001b[0m     \u001b[38;5;28;01mreturn\u001b[39;00m \u001b[43mcomplexjson\u001b[49m\u001b[38;5;241;43m.\u001b[39;49m\u001b[43mloads\u001b[49m\u001b[43m(\u001b[49m\u001b[38;5;28;43mself\u001b[39;49m\u001b[38;5;241;43m.\u001b[39;49m\u001b[43mtext\u001b[49m\u001b[43m,\u001b[49m\u001b[43m \u001b[49m\u001b[38;5;241;43m*\u001b[39;49m\u001b[38;5;241;43m*\u001b[39;49m\u001b[43mkwargs\u001b[49m\u001b[43m)\u001b[49m\n\u001b[1;32m    972\u001b[0m \u001b[38;5;28;01mexcept\u001b[39;00m JSONDecodeError \u001b[38;5;28;01mas\u001b[39;00m e:\n\u001b[1;32m    973\u001b[0m     \u001b[38;5;66;03m# Catch JSON-related errors and raise as requests.JSONDecodeError\u001b[39;00m\n\u001b[1;32m    974\u001b[0m     \u001b[38;5;66;03m# This aliases json.JSONDecodeError and simplejson.JSONDecodeError\u001b[39;00m\n",
      "File \u001b[0;32m/usr/local/lib/python3.11/json/__init__.py:346\u001b[0m, in \u001b[0;36mloads\u001b[0;34m(s, cls, object_hook, parse_float, parse_int, parse_constant, object_pairs_hook, **kw)\u001b[0m\n\u001b[1;32m    343\u001b[0m \u001b[38;5;28;01mif\u001b[39;00m (\u001b[38;5;28mcls\u001b[39m \u001b[38;5;129;01mis\u001b[39;00m \u001b[38;5;28;01mNone\u001b[39;00m \u001b[38;5;129;01mand\u001b[39;00m object_hook \u001b[38;5;129;01mis\u001b[39;00m \u001b[38;5;28;01mNone\u001b[39;00m \u001b[38;5;129;01mand\u001b[39;00m\n\u001b[1;32m    344\u001b[0m         parse_int \u001b[38;5;129;01mis\u001b[39;00m \u001b[38;5;28;01mNone\u001b[39;00m \u001b[38;5;129;01mand\u001b[39;00m parse_float \u001b[38;5;129;01mis\u001b[39;00m \u001b[38;5;28;01mNone\u001b[39;00m \u001b[38;5;129;01mand\u001b[39;00m\n\u001b[1;32m    345\u001b[0m         parse_constant \u001b[38;5;129;01mis\u001b[39;00m \u001b[38;5;28;01mNone\u001b[39;00m \u001b[38;5;129;01mand\u001b[39;00m object_pairs_hook \u001b[38;5;129;01mis\u001b[39;00m \u001b[38;5;28;01mNone\u001b[39;00m \u001b[38;5;129;01mand\u001b[39;00m \u001b[38;5;129;01mnot\u001b[39;00m kw):\n\u001b[0;32m--> 346\u001b[0m     \u001b[38;5;28;01mreturn\u001b[39;00m \u001b[43m_default_decoder\u001b[49m\u001b[38;5;241;43m.\u001b[39;49m\u001b[43mdecode\u001b[49m\u001b[43m(\u001b[49m\u001b[43ms\u001b[49m\u001b[43m)\u001b[49m\n\u001b[1;32m    347\u001b[0m \u001b[38;5;28;01mif\u001b[39;00m \u001b[38;5;28mcls\u001b[39m \u001b[38;5;129;01mis\u001b[39;00m \u001b[38;5;28;01mNone\u001b[39;00m:\n",
      "File \u001b[0;32m/usr/local/lib/python3.11/json/decoder.py:337\u001b[0m, in \u001b[0;36mJSONDecoder.decode\u001b[0;34m(self, s, _w)\u001b[0m\n\u001b[1;32m    333\u001b[0m \u001b[38;5;250m\u001b[39m\u001b[38;5;124;03m\"\"\"Return the Python representation of ``s`` (a ``str`` instance\u001b[39;00m\n\u001b[1;32m    334\u001b[0m \u001b[38;5;124;03mcontaining a JSON document).\u001b[39;00m\n\u001b[1;32m    335\u001b[0m \n\u001b[1;32m    336\u001b[0m \u001b[38;5;124;03m\"\"\"\u001b[39;00m\n\u001b[0;32m--> 337\u001b[0m obj, end \u001b[38;5;241m=\u001b[39m \u001b[38;5;28;43mself\u001b[39;49m\u001b[38;5;241;43m.\u001b[39;49m\u001b[43mraw_decode\u001b[49m\u001b[43m(\u001b[49m\u001b[43ms\u001b[49m\u001b[43m,\u001b[49m\u001b[43m \u001b[49m\u001b[43midx\u001b[49m\u001b[38;5;241;43m=\u001b[39;49m\u001b[43m_w\u001b[49m\u001b[43m(\u001b[49m\u001b[43ms\u001b[49m\u001b[43m,\u001b[49m\u001b[43m \u001b[49m\u001b[38;5;241;43m0\u001b[39;49m\u001b[43m)\u001b[49m\u001b[38;5;241;43m.\u001b[39;49m\u001b[43mend\u001b[49m\u001b[43m(\u001b[49m\u001b[43m)\u001b[49m\u001b[43m)\u001b[49m\n\u001b[1;32m    338\u001b[0m end \u001b[38;5;241m=\u001b[39m _w(s, end)\u001b[38;5;241m.\u001b[39mend()\n",
      "File \u001b[0;32m/usr/local/lib/python3.11/json/decoder.py:355\u001b[0m, in \u001b[0;36mJSONDecoder.raw_decode\u001b[0;34m(self, s, idx)\u001b[0m\n\u001b[1;32m    354\u001b[0m \u001b[38;5;28;01mexcept\u001b[39;00m \u001b[38;5;167;01mStopIteration\u001b[39;00m \u001b[38;5;28;01mas\u001b[39;00m err:\n\u001b[0;32m--> 355\u001b[0m     \u001b[38;5;28;01mraise\u001b[39;00m JSONDecodeError(\u001b[38;5;124m\"\u001b[39m\u001b[38;5;124mExpecting value\u001b[39m\u001b[38;5;124m\"\u001b[39m, s, err\u001b[38;5;241m.\u001b[39mvalue) \u001b[38;5;28;01mfrom\u001b[39;00m \u001b[38;5;28;01mNone\u001b[39;00m\n\u001b[1;32m    356\u001b[0m \u001b[38;5;28;01mreturn\u001b[39;00m obj, end\n",
      "\u001b[0;31mJSONDecodeError\u001b[0m: Expecting value: line 1 column 1 (char 0)",
      "\nDuring handling of the above exception, another exception occurred:\n",
      "\u001b[0;31mJSONDecodeError\u001b[0m                           Traceback (most recent call last)",
      "Cell \u001b[0;32mIn[62], line 5\u001b[0m\n\u001b[1;32m      2\u001b[0m rsp \u001b[38;5;241m=\u001b[39m requests\u001b[38;5;241m.\u001b[39mpost(\u001b[38;5;124m\"\u001b[39m\u001b[38;5;124mhttp://172.17.0.1:5000/models/\u001b[39m\u001b[38;5;124m\"\u001b[39m, json\u001b[38;5;241m=\u001b[39m{\u001b[38;5;124m\"\u001b[39m\u001b[38;5;124mimage\u001b[39m\u001b[38;5;124m\"\u001b[39m: l})\n\u001b[1;32m      4\u001b[0m \u001b[38;5;66;03m# print the json response\u001b[39;00m\n\u001b[0;32m----> 5\u001b[0m \u001b[43mrsp\u001b[49m\u001b[38;5;241;43m.\u001b[39;49m\u001b[43mjson\u001b[49m\u001b[43m(\u001b[49m\u001b[43m)\u001b[49m\n",
      "File \u001b[0;32m/usr/local/lib/python3.11/site-packages/requests/models.py:975\u001b[0m, in \u001b[0;36mResponse.json\u001b[0;34m(self, **kwargs)\u001b[0m\n\u001b[1;32m    971\u001b[0m     \u001b[38;5;28;01mreturn\u001b[39;00m complexjson\u001b[38;5;241m.\u001b[39mloads(\u001b[38;5;28mself\u001b[39m\u001b[38;5;241m.\u001b[39mtext, \u001b[38;5;241m*\u001b[39m\u001b[38;5;241m*\u001b[39mkwargs)\n\u001b[1;32m    972\u001b[0m \u001b[38;5;28;01mexcept\u001b[39;00m JSONDecodeError \u001b[38;5;28;01mas\u001b[39;00m e:\n\u001b[1;32m    973\u001b[0m     \u001b[38;5;66;03m# Catch JSON-related errors and raise as requests.JSONDecodeError\u001b[39;00m\n\u001b[1;32m    974\u001b[0m     \u001b[38;5;66;03m# This aliases json.JSONDecodeError and simplejson.JSONDecodeError\u001b[39;00m\n\u001b[0;32m--> 975\u001b[0m     \u001b[38;5;28;01mraise\u001b[39;00m RequestsJSONDecodeError(e\u001b[38;5;241m.\u001b[39mmsg, e\u001b[38;5;241m.\u001b[39mdoc, e\u001b[38;5;241m.\u001b[39mpos)\n",
      "\u001b[0;31mJSONDecodeError\u001b[0m: Expecting value: line 1 column 1 (char 0)"
     ]
    }
   ],
   "source": [
    "# make the POST request passing the single test case as the `image` field:\n",
    "rsp = requests.post(\"http://172.17.0.1:5000/models/\", json={\"image\": l})\n",
    "\n",
    "# print the json response\n",
    "rsp.json()"
   ]
  },
  {
   "cell_type": "code",
   "execution_count": null,
   "id": "bc35ed7a-dea7-4c85-b4ec-181e3fa3896a",
   "metadata": {},
   "outputs": [],
   "source": []
  }
 ],
 "metadata": {
  "kernelspec": {
   "display_name": "Python 3 (ipykernel)",
   "language": "python",
   "name": "python3"
  },
  "language_info": {
   "codemirror_mode": {
    "name": "ipython",
    "version": 3
   },
   "file_extension": ".py",
   "mimetype": "text/x-python",
   "name": "python",
   "nbconvert_exporter": "python",
   "pygments_lexer": "ipython3",
   "version": "3.11.1"
  }
 },
 "nbformat": 4,
 "nbformat_minor": 5
}
