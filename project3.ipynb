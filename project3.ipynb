{
 "cells": [
  {
   "cell_type": "markdown",
   "id": "3f675411",
   "metadata": {},
   "source": [
    "# Project 2 Model Classification\n",
    "### Serena Shah, Osvaldo Salinas\n",
    "## Part 1"
   ]
  },
  {
   "cell_type": "markdown",
   "id": "b966bfb7",
   "metadata": {},
   "source": [
    "### Loading the Data"
   ]
  },
  {
   "cell_type": "code",
   "execution_count": 1,
   "id": "87799c56",
   "metadata": {},
   "outputs": [],
   "source": [
    "import os\n",
    "from pathlib import Path\n",
    "\n",
    "Path(\"data/train/damage\").mkdir(parents=True, exist_ok=True)\n",
    "Path(\"data/train/no_damage\").mkdir(parents=True, exist_ok=True)\n",
    "\n",
    "Path(\"data/test/damage\").mkdir(parents=True, exist_ok=True)\n",
    "Path(\"data/test/no_damage\").mkdir(parents=True, exist_ok=True)"
   ]
  },
  {
   "cell_type": "code",
   "execution_count": 2,
   "id": "e93b108e",
   "metadata": {},
   "outputs": [],
   "source": [
    "# we need paths of images for individual classes so we can copy them in the new directories that we created above\n",
    "\n",
    "damage_all_paths = os.listdir('data_all_modified/damage')\n",
    "no_damage_all_paths = os.listdir('data_all_modified/no_damage')"
   ]
  },
  {
   "cell_type": "code",
   "execution_count": 3,
   "id": "6ea54e28",
   "metadata": {},
   "outputs": [
    {
     "name": "stdout",
     "output_type": "stream",
     "text": [
      "...............\n",
      "train damage image count:  11336\n",
      "test damage image count:  2834\n",
      "len of overlap:  0\n",
      "...............\n",
      "\n",
      "...............\n",
      "train no damage image count:  5721\n",
      "test no damage image count:  1431\n",
      "len of overlap:  0\n",
      "...............\n",
      "\n"
     ]
    }
   ],
   "source": [
    "# split the image paths into train and test by randomly selecting 80% of the images in train and 20% in test.\n",
    "import random\n",
    "\n",
    "print(\"...............\")\n",
    "train_damage_paths = random.sample(damage_all_paths, int(len(damage_all_paths)*0.8))\n",
    "print(\"train damage image count: \", len(train_damage_paths))\n",
    "test_damage_paths = [ p for p in damage_all_paths if p not in train_damage_paths]\n",
    "print(\"test damage image count: \", len(test_damage_paths))\n",
    "# ensure no overlap:\n",
    "overlap = [p for p in train_damage_paths if p in test_damage_paths]\n",
    "print(\"len of overlap: \", len(overlap))\n",
    "print(\"...............\\n\")\n",
    "print(\"...............\")\n",
    "train_no_damage_paths = random.sample(no_damage_all_paths, int(len(no_damage_all_paths)*0.8))\n",
    "print(\"train no damage image count: \", len(train_no_damage_paths))\n",
    "test_no_damage_paths = [ p for p in no_damage_all_paths if p not in train_no_damage_paths]\n",
    "print(\"test no damage image count: \", len(test_no_damage_paths))\n",
    "# ensure no overlap:\n",
    "overlap = [p for p in train_no_damage_paths if p in test_no_damage_paths]\n",
    "print(\"len of overlap: \", len(overlap))\n",
    "print(\"...............\\n\")"
   ]
  },
  {
   "cell_type": "code",
   "execution_count": 4,
   "id": "2afad157",
   "metadata": {},
   "outputs": [
    {
     "name": "stdout",
     "output_type": "stream",
     "text": [
      "Files in train/damage:  14062\n",
      "Files in train/no_damage:  7102\n",
      "Files in test/damage:  6924\n",
      "Files in test/no_damage:  3506\n"
     ]
    }
   ],
   "source": [
    "# copying of files in the train and test directories\n",
    "import shutil\n",
    "\n",
    "root_dir = 'data_all_modified'\n",
    "split_root_dir = 'data'\n",
    "\n",
    "# Copy damaged images to train and test directories\n",
    "for p in train_damage_paths:\n",
    "    shutil.copyfile(os.path.join(root_dir, 'damage', p), os.path.join(split_root_dir, 'train/damage', p))\n",
    "\n",
    "for p in test_damage_paths:\n",
    "    shutil.copyfile(os.path.join(root_dir, 'damage', p), os.path.join(split_root_dir, 'test/damage', p))\n",
    "\n",
    "# Copy no damage images to train and test directories\n",
    "for p in train_no_damage_paths:\n",
    "    shutil.copyfile(os.path.join(root_dir, 'no_damage', p), os.path.join(split_root_dir, 'train/no_damage', p))\n",
    "\n",
    "for p in test_no_damage_paths:\n",
    "    shutil.copyfile(os.path.join(root_dir, 'no_damage', p), os.path.join(split_root_dir, 'test/no_damage', p))\n",
    "\n",
    "# Check counts to ensure files are copied correctly\n",
    "print(\"Files in train/damage: \", len(os.listdir(os.path.join(split_root_dir, \"train/damage\"))))\n",
    "print(\"Files in train/no_damage: \", len(os.listdir(os.path.join(split_root_dir, \"train/no_damage\"))))\n",
    "print(\"Files in test/damage: \", len(os.listdir(os.path.join(split_root_dir, \"test/damage\"))))\n",
    "print(\"Files in test/no_damage: \", len(os.listdir(os.path.join(split_root_dir, \"test/no_damage\"))))"
   ]
  },
  {
   "cell_type": "markdown",
   "id": "09d9cb1b",
   "metadata": {},
   "source": [
    "### Data preprocessing"
   ]
  },
  {
   "cell_type": "code",
   "execution_count": 5,
   "id": "8aac95c2",
   "metadata": {},
   "outputs": [
    {
     "name": "stderr",
     "output_type": "stream",
     "text": [
      "2024-04-11 00:16:23.122876: I tensorflow/core/util/port.cc:113] oneDNN custom operations are on. You may see slightly different numerical results due to floating-point round-off errors from different computation orders. To turn them off, set the environment variable `TF_ENABLE_ONEDNN_OPTS=0`.\n",
      "2024-04-11 00:16:23.193370: I external/local_tsl/tsl/cuda/cudart_stub.cc:31] Could not find cuda drivers on your machine, GPU will not be used.\n",
      "2024-04-11 00:16:23.576842: E external/local_xla/xla/stream_executor/cuda/cuda_dnn.cc:9261] Unable to register cuDNN factory: Attempting to register factory for plugin cuDNN when one has already been registered\n",
      "2024-04-11 00:16:23.576921: E external/local_xla/xla/stream_executor/cuda/cuda_fft.cc:607] Unable to register cuFFT factory: Attempting to register factory for plugin cuFFT when one has already been registered\n",
      "2024-04-11 00:16:23.644887: E external/local_xla/xla/stream_executor/cuda/cuda_blas.cc:1515] Unable to register cuBLAS factory: Attempting to register factory for plugin cuBLAS when one has already been registered\n",
      "2024-04-11 00:16:23.799908: I external/local_tsl/tsl/cuda/cudart_stub.cc:31] Could not find cuda drivers on your machine, GPU will not be used.\n",
      "2024-04-11 00:16:23.802055: I tensorflow/core/platform/cpu_feature_guard.cc:182] This TensorFlow binary is optimized to use available CPU instructions in performance-critical operations.\n",
      "To enable the following instructions: AVX2 AVX_VNNI FMA, in other operations, rebuild TensorFlow with the appropriate compiler flags.\n",
      "2024-04-11 00:16:28.471347: W tensorflow/compiler/tf2tensorrt/utils/py_utils.cc:38] TF-TRT Warning: Could not find TensorRT\n"
     ]
    },
    {
     "name": "stdout",
     "output_type": "stream",
     "text": [
      "Found 21164 files belonging to 2 classes.\n",
      "Using 16932 files for training.\n",
      "Using 4232 files for validation.\n"
     ]
    }
   ],
   "source": [
    "import tensorflow as tf\n",
    "from tensorflow.keras.layers import Rescaling\n",
    "train_data_dir = 'data/train/'\n",
    "\n",
    "batch_size = 32\n",
    "# target image size\n",
    "img_height = 128\n",
    "img_width = 128\n",
    "\n",
    "# note that subset=\"training\", \"validation\", \"both\", and dictates which dataset is returned\n",
    "train_ds, val_ds = tf.keras.utils.image_dataset_from_directory(\n",
    "train_data_dir,\n",
    "validation_split=0.2,\n",
    "subset=\"both\",\n",
    "seed=123,\n",
    "image_size=(img_height, img_width),\n",
    "batch_size=batch_size\n",
    ")\n",
    "rescale = Rescaling(scale=1.0/255)\n",
    "train_rescale_ds = train_ds.map(lambda image,label:(rescale(image),label))\n",
    "val_rescale_ds = val_ds.map(lambda image,label:(rescale(image),label))"
   ]
  },
  {
   "cell_type": "code",
   "execution_count": 65,
   "id": "ac06c011",
   "metadata": {},
   "outputs": [
    {
     "name": "stdout",
     "output_type": "stream",
     "text": [
      "Found 10430 files belonging to 2 classes.\n"
     ]
    }
   ],
   "source": [
    "test_data_dir = 'data/test/'\n",
    "\n",
    "batch_size = 1\n",
    "# target image size\n",
    "img_height = 128\n",
    "img_width = 128\n",
    "\n",
    "# note that subset=\"training\", \"validation\", \"both\", and dictates what is returned\n",
    "test_ds = tf.keras.utils.image_dataset_from_directory(\n",
    "test_data_dir,\n",
    "seed=123,\n",
    "image_size=(img_height, img_width),\n",
    ")\n",
    "\n",
    "# approach 1: manually rescale data --\n",
    "rescale = Rescaling(scale=1.0/255)\n",
    "test_rescale_ds = test_ds.map(lambda image,label:(rescale(image),label))"
   ]
  },
  {
   "cell_type": "markdown",
   "id": "e0b22c86",
   "metadata": {},
   "source": [
    "## Part 2\n",
    "### ANN"
   ]
  },
  {
   "cell_type": "code",
   "execution_count": 23,
   "id": "71695af5",
   "metadata": {},
   "outputs": [
    {
     "name": "stdout",
     "output_type": "stream",
     "text": [
      "Model: \"sequential_14\"\n",
      "_________________________________________________________________\n",
      " Layer (type)                Output Shape              Param #   \n",
      "=================================================================\n",
      " flatten_14 (Flatten)        (None, 49152)             0         \n",
      "                                                                 \n",
      " dense_42 (Dense)            (None, 120)               5898360   \n",
      "                                                                 \n",
      " dense_43 (Dense)            (None, 128)               15488     \n",
      "                                                                 \n",
      " dense_44 (Dense)            (None, 1)                 129       \n",
      "                                                                 \n",
      "=================================================================\n",
      "Total params: 5913977 (22.56 MB)\n",
      "Trainable params: 5913977 (22.56 MB)\n",
      "Non-trainable params: 0 (0.00 Byte)\n",
      "_________________________________________________________________\n"
     ]
    }
   ],
   "source": [
    "from keras.models import Sequential\n",
    "from keras.layers import Dense, Flatten\n",
    "\n",
    "model_ann = Sequential()\n",
    "\n",
    "# Flatten\n",
    "model_ann.add(Flatten(input_shape=(img_height, img_width, 3)))\n",
    "\n",
    "# Our input layer can have any number of perceptrons, we chose 2, however,\n",
    "# the input dimension must match the number of features in the independent variable -- therefore, we set\n",
    "# it to 4\n",
    "model_ann.add(Dense(120, input_shape = (img_height*img_width,), activation='relu'))\n",
    "\n",
    "# we can add any number of hidden layers with any number of perceptrons; here we choose 1 layer with 128 perceptrons. The\n",
    "# hidden layers should all use RELU\n",
    "model_ann.add(Dense(128, activation='relu'))\n",
    "\n",
    "# softmax activation function is selected for multi-label classification problems; there are 3 perceptrons in this\n",
    "# last layer because there are 2 target labels to predict (it matches the shape of y)\n",
    "model_ann.add(Dense(1, activation='sigmoid'))\n",
    "\n",
    "# compile model\n",
    "model_ann.compile(optimizer='adam', loss='categorical_crossentropy', metrics=['accuracy'])\n",
    "\n",
    "# generating summary of model\n",
    "model_ann.summary()"
   ]
  },
  {
   "cell_type": "code",
   "execution_count": 24,
   "id": "b390b1b7-44aa-4ea3-aeb5-602975773f9f",
   "metadata": {},
   "outputs": [
    {
     "name": "stdout",
     "output_type": "stream",
     "text": [
      "Epoch 1/20\n"
     ]
    },
    {
     "name": "stderr",
     "output_type": "stream",
     "text": [
      "/usr/local/lib/python3.11/site-packages/tensorflow/python/util/dispatch.py:1260: SyntaxWarning: In loss categorical_crossentropy, expected y_pred.shape to be (batch_size, num_classes) with num_classes > 1. Received: y_pred.shape=(None, 1). Consider using 'binary_crossentropy' if you only have 2 classes.\n",
      "  return dispatch_target(*args, **kwargs)\n"
     ]
    },
    {
     "name": "stdout",
     "output_type": "stream",
     "text": [
      "530/530 [==============================] - 44s 82ms/step - loss: 0.0000e+00 - accuracy: 0.6678 - val_loss: 0.0000e+00 - val_accuracy: 0.6486\n",
      "Epoch 2/20\n",
      "530/530 [==============================] - 38s 72ms/step - loss: 0.0000e+00 - accuracy: 0.6684 - val_loss: 0.0000e+00 - val_accuracy: 0.6486\n",
      "Epoch 3/20\n",
      "530/530 [==============================] - 35s 65ms/step - loss: 0.0000e+00 - accuracy: 0.6684 - val_loss: 0.0000e+00 - val_accuracy: 0.6486\n",
      "Epoch 4/20\n",
      "530/530 [==============================] - 32s 59ms/step - loss: 0.0000e+00 - accuracy: 0.6684 - val_loss: 0.0000e+00 - val_accuracy: 0.6486\n",
      "Epoch 5/20\n",
      "530/530 [==============================] - 37s 69ms/step - loss: 0.0000e+00 - accuracy: 0.6684 - val_loss: 0.0000e+00 - val_accuracy: 0.6486\n",
      "Epoch 6/20\n",
      "530/530 [==============================] - 37s 70ms/step - loss: 0.0000e+00 - accuracy: 0.6684 - val_loss: 0.0000e+00 - val_accuracy: 0.6486\n",
      "Epoch 7/20\n",
      "530/530 [==============================] - 36s 67ms/step - loss: 0.0000e+00 - accuracy: 0.6684 - val_loss: 0.0000e+00 - val_accuracy: 0.6486\n",
      "Epoch 8/20\n",
      "530/530 [==============================] - 34s 64ms/step - loss: 0.0000e+00 - accuracy: 0.6684 - val_loss: 0.0000e+00 - val_accuracy: 0.6486\n",
      "Epoch 9/20\n",
      "530/530 [==============================] - 34s 63ms/step - loss: 0.0000e+00 - accuracy: 0.6684 - val_loss: 0.0000e+00 - val_accuracy: 0.6486\n",
      "Epoch 10/20\n",
      "530/530 [==============================] - 32s 61ms/step - loss: 0.0000e+00 - accuracy: 0.6684 - val_loss: 0.0000e+00 - val_accuracy: 0.6486\n",
      "Epoch 11/20\n",
      "530/530 [==============================] - 34s 64ms/step - loss: 0.0000e+00 - accuracy: 0.6684 - val_loss: 0.0000e+00 - val_accuracy: 0.6486\n",
      "Epoch 12/20\n",
      "530/530 [==============================] - 33s 62ms/step - loss: 0.0000e+00 - accuracy: 0.6684 - val_loss: 0.0000e+00 - val_accuracy: 0.6486\n",
      "Epoch 13/20\n",
      "530/530 [==============================] - 34s 64ms/step - loss: 0.0000e+00 - accuracy: 0.6684 - val_loss: 0.0000e+00 - val_accuracy: 0.6486\n",
      "Epoch 14/20\n",
      "530/530 [==============================] - 32s 59ms/step - loss: 0.0000e+00 - accuracy: 0.6684 - val_loss: 0.0000e+00 - val_accuracy: 0.6486\n",
      "Epoch 15/20\n",
      "530/530 [==============================] - 35s 66ms/step - loss: 0.0000e+00 - accuracy: 0.6684 - val_loss: 0.0000e+00 - val_accuracy: 0.6486\n",
      "Epoch 16/20\n",
      "530/530 [==============================] - 37s 69ms/step - loss: 0.0000e+00 - accuracy: 0.6684 - val_loss: 0.0000e+00 - val_accuracy: 0.6486\n",
      "Epoch 17/20\n",
      "530/530 [==============================] - 36s 68ms/step - loss: 0.0000e+00 - accuracy: 0.6684 - val_loss: 0.0000e+00 - val_accuracy: 0.6486\n",
      "Epoch 18/20\n",
      "530/530 [==============================] - 36s 68ms/step - loss: 0.0000e+00 - accuracy: 0.6684 - val_loss: 0.0000e+00 - val_accuracy: 0.6486\n",
      "Epoch 19/20\n",
      "530/530 [==============================] - 38s 72ms/step - loss: 0.0000e+00 - accuracy: 0.6684 - val_loss: 0.0000e+00 - val_accuracy: 0.6486\n",
      "Epoch 20/20\n",
      "530/530 [==============================] - 34s 64ms/step - loss: 0.0000e+00 - accuracy: 0.6684 - val_loss: 0.0000e+00 - val_accuracy: 0.6486\n"
     ]
    }
   ],
   "source": [
    "#fit the model from image generator\n",
    "history_ann = model_ann.fit(\n",
    "            train_rescale_ds,\n",
    "            batch_size=32,\n",
    "            epochs=20,\n",
    "            validation_data=val_rescale_ds\n",
    ")"
   ]
  },
  {
   "cell_type": "code",
   "execution_count": 25,
   "id": "d0e1754d-f754-4ef2-80c9-b8c7480594a9",
   "metadata": {},
   "outputs": [
    {
     "data": {
      "text/plain": [
       "0.6638542413711548"
      ]
     },
     "execution_count": 25,
     "metadata": {},
     "output_type": "execute_result"
    }
   ],
   "source": [
    "test_loss_ann, test_accuracy_ann = model_ann.evaluate(test_rescale_ds, verbose=0)\n",
    "test_accuracy_ann"
   ]
  },
  {
   "cell_type": "code",
   "execution_count": 26,
   "id": "b823b71e-8bff-4c0e-bc66-a29be96ca2ba",
   "metadata": {},
   "outputs": [],
   "source": [
    "model_ann.save(\"models/ann.keras\")"
   ]
  },
  {
   "cell_type": "markdown",
   "id": "44e13dc8-ede4-4201-909d-1a7df6ffa33a",
   "metadata": {},
   "source": [
    "### LeNet-5"
   ]
  },
  {
   "cell_type": "code",
   "execution_count": 27,
   "id": "e077cdd0-fcd9-4438-9bf7-0b11fddd3328",
   "metadata": {},
   "outputs": [
    {
     "name": "stdout",
     "output_type": "stream",
     "text": [
      "Model: \"sequential_15\"\n",
      "_________________________________________________________________\n",
      " Layer (type)                Output Shape              Param #   \n",
      "=================================================================\n",
      " conv2d_24 (Conv2D)          (None, 126, 126, 6)       168       \n",
      "                                                                 \n",
      " average_pooling2d_12 (Aver  (None, 63, 63, 6)         0         \n",
      " agePooling2D)                                                   \n",
      "                                                                 \n",
      " conv2d_25 (Conv2D)          (None, 61, 61, 16)        880       \n",
      "                                                                 \n",
      " average_pooling2d_13 (Aver  (None, 30, 30, 16)        0         \n",
      " agePooling2D)                                                   \n",
      "                                                                 \n",
      " flatten_15 (Flatten)        (None, 14400)             0         \n",
      "                                                                 \n",
      " dense_45 (Dense)            (None, 120)               1728120   \n",
      "                                                                 \n",
      " dense_46 (Dense)            (None, 84)                10164     \n",
      "                                                                 \n",
      " dense_47 (Dense)            (None, 3)                 255       \n",
      "                                                                 \n",
      "=================================================================\n",
      "Total params: 1739587 (6.64 MB)\n",
      "Trainable params: 1739587 (6.64 MB)\n",
      "Non-trainable params: 0 (0.00 Byte)\n",
      "_________________________________________________________________\n"
     ]
    }
   ],
   "source": [
    "from keras.models import Sequential\n",
    "from keras.layers import Dense, Flatten\n",
    "from keras.optimizers import RMSprop\n",
    "import pandas as pd\n",
    "\n",
    "model_lenet5 = models.Sequential()\n",
    "\n",
    "# Layer 1: Convolutional layer with 6 filters of size 3x3, followed by average pooling\n",
    "model_lenet5.add(layers.Conv2D(6, kernel_size=(3, 3), activation='relu', input_shape=(128,128,3)))\n",
    "model_lenet5.add(layers.AveragePooling2D(pool_size=(2, 2)))\n",
    "\n",
    "# Layer 2: Convolutional layer with 16 filters of size 3x3, followed by average pooling\n",
    "model_lenet5.add(layers.Conv2D(16, kernel_size=(3, 3), activation='relu'))\n",
    "model_lenet5.add(layers.AveragePooling2D(pool_size=(2, 2)))\n",
    "\n",
    "# Flatten the feature maps to feed into fully connected layers\n",
    "model_lenet5.add(layers.Flatten())\n",
    "\n",
    "# Layer 3: Fully connected layer with 120 neurons\n",
    "model_lenet5.add(layers.Dense(120, activation='relu'))\n",
    "\n",
    "# Layer 4: Fully connected layer with 84 neurons\n",
    "model_lenet5.add(layers.Dense(84, activation='relu'))\n",
    "\n",
    "# Output layer: Fully connected layer with num_classes neurons (e.g., 3 )\n",
    "model_lenet5.add(layers.Dense(3, activation='softmax'))\n",
    "\n",
    "# Compile model\n",
    "model_lenet5.compile(optimizer=RMSprop(learning_rate=1e-4), loss='sparse_categorical_crossentropy', metrics=['accuracy'])\n",
    "\n",
    "# Generating the summary of the model\n",
    "model_lenet5.summary()"
   ]
  },
  {
   "cell_type": "code",
   "execution_count": 28,
   "id": "d46f4c95-b6d4-42a7-99cf-ecafcfbeff50",
   "metadata": {},
   "outputs": [
    {
     "name": "stdout",
     "output_type": "stream",
     "text": [
      "Epoch 1/20\n",
      "530/530 [==============================] - 23s 42ms/step - loss: 0.6043 - accuracy: 0.6919 - val_loss: 0.7452 - val_accuracy: 0.6498\n",
      "Epoch 2/20\n",
      "530/530 [==============================] - 29s 54ms/step - loss: 0.5020 - accuracy: 0.7684 - val_loss: 0.6439 - val_accuracy: 0.6812\n",
      "Epoch 3/20\n",
      "530/530 [==============================] - 24s 46ms/step - loss: 0.4373 - accuracy: 0.8157 - val_loss: 0.4048 - val_accuracy: 0.8296\n",
      "Epoch 4/20\n",
      "530/530 [==============================] - 33s 61ms/step - loss: 0.4026 - accuracy: 0.8375 - val_loss: 0.4826 - val_accuracy: 0.7833\n",
      "Epoch 5/20\n",
      "530/530 [==============================] - 27s 50ms/step - loss: 0.3819 - accuracy: 0.8514 - val_loss: 0.5876 - val_accuracy: 0.7472\n",
      "Epoch 6/20\n",
      "530/530 [==============================] - 30s 56ms/step - loss: 0.3614 - accuracy: 0.8596 - val_loss: 0.3471 - val_accuracy: 0.8575\n",
      "Epoch 7/20\n",
      "530/530 [==============================] - 28s 52ms/step - loss: 0.3412 - accuracy: 0.8666 - val_loss: 0.3207 - val_accuracy: 0.8759\n",
      "Epoch 8/20\n",
      "530/530 [==============================] - 29s 54ms/step - loss: 0.3224 - accuracy: 0.8753 - val_loss: 0.3139 - val_accuracy: 0.8717\n",
      "Epoch 9/20\n",
      "530/530 [==============================] - 26s 48ms/step - loss: 0.3059 - accuracy: 0.8806 - val_loss: 0.2977 - val_accuracy: 0.8785\n",
      "Epoch 10/20\n",
      "530/530 [==============================] - 26s 49ms/step - loss: 0.2889 - accuracy: 0.8855 - val_loss: 0.2808 - val_accuracy: 0.8908\n",
      "Epoch 11/20\n",
      "530/530 [==============================] - 25s 46ms/step - loss: 0.2751 - accuracy: 0.8920 - val_loss: 0.2584 - val_accuracy: 0.8965\n",
      "Epoch 12/20\n",
      "530/530 [==============================] - 23s 43ms/step - loss: 0.2591 - accuracy: 0.8959 - val_loss: 0.2588 - val_accuracy: 0.8960\n",
      "Epoch 13/20\n",
      "530/530 [==============================] - 30s 56ms/step - loss: 0.2469 - accuracy: 0.9028 - val_loss: 0.4273 - val_accuracy: 0.8270\n",
      "Epoch 14/20\n",
      "530/530 [==============================] - 28s 52ms/step - loss: 0.2317 - accuracy: 0.9115 - val_loss: 0.6159 - val_accuracy: 0.6926\n",
      "Epoch 15/20\n",
      "530/530 [==============================] - 27s 50ms/step - loss: 0.2216 - accuracy: 0.9116 - val_loss: 0.2887 - val_accuracy: 0.8811\n",
      "Epoch 16/20\n",
      "530/530 [==============================] - 25s 47ms/step - loss: 0.2080 - accuracy: 0.9188 - val_loss: 0.3073 - val_accuracy: 0.8689\n",
      "Epoch 17/20\n",
      "530/530 [==============================] - 26s 49ms/step - loss: 0.1957 - accuracy: 0.9254 - val_loss: 0.2300 - val_accuracy: 0.9083\n",
      "Epoch 18/20\n",
      "530/530 [==============================] - 24s 46ms/step - loss: 0.1860 - accuracy: 0.9279 - val_loss: 0.2870 - val_accuracy: 0.8835\n",
      "Epoch 19/20\n",
      "530/530 [==============================] - 24s 45ms/step - loss: 0.1759 - accuracy: 0.9314 - val_loss: 0.3195 - val_accuracy: 0.8698\n",
      "Epoch 20/20\n",
      "530/530 [==============================] - 26s 49ms/step - loss: 0.1660 - accuracy: 0.9353 - val_loss: 0.1988 - val_accuracy: 0.9241\n"
     ]
    }
   ],
   "source": [
    "#fit the model from image generator\n",
    "history = model_lenet5.fit(\n",
    "            train_rescale_ds,\n",
    "            batch_size=32,\n",
    "            epochs=20,\n",
    "            validation_data=val_rescale_ds\n",
    ")"
   ]
  },
  {
   "cell_type": "markdown",
   "id": "a345e710-0833-4660-8e47-4816aafe2bc5",
   "metadata": {},
   "source": [
    "The Lenet-5 model accuracy is shown below."
   ]
  },
  {
   "cell_type": "code",
   "execution_count": 29,
   "id": "a04ec671-19a0-46a5-9d78-394b237ecd28",
   "metadata": {},
   "outputs": [
    {
     "data": {
      "text/plain": [
       "0.9396932125091553"
      ]
     },
     "execution_count": 29,
     "metadata": {},
     "output_type": "execute_result"
    }
   ],
   "source": [
    "test_loss_lenet5, test_accuracy_lenet5 = model_lenet5.evaluate(test_rescale_ds, verbose=0)\n",
    "test_accuracy_lenet5"
   ]
  },
  {
   "cell_type": "code",
   "execution_count": 30,
   "id": "be9acbde-1967-4686-859a-5d2ecdcbcd96",
   "metadata": {},
   "outputs": [],
   "source": [
    "model_lenet5.save(\"models/lenet5.keras\")"
   ]
  },
  {
   "cell_type": "markdown",
   "id": "3f59fea5-15c6-4906-b464-b39c2200cb61",
   "metadata": {},
   "source": [
    "### Alt LeNet-5"
   ]
  },
  {
   "cell_type": "code",
   "execution_count": 69,
   "id": "c459c1dc-94f1-4187-b93e-5fa3d15827e0",
   "metadata": {},
   "outputs": [
    {
     "name": "stdout",
     "output_type": "stream",
     "text": [
      "Model: \"sequential_18\"\n",
      "_________________________________________________________________\n",
      " Layer (type)                Output Shape              Param #   \n",
      "=================================================================\n",
      " conv2d_34 (Conv2D)          (None, 126, 126, 32)      896       \n",
      "                                                                 \n",
      " max_pooling2d_20 (MaxPooli  (None, 63, 63, 32)        0         \n",
      " ng2D)                                                           \n",
      "                                                                 \n",
      " conv2d_35 (Conv2D)          (None, 61, 61, 64)        18496     \n",
      "                                                                 \n",
      " max_pooling2d_21 (MaxPooli  (None, 30, 30, 64)        0         \n",
      " ng2D)                                                           \n",
      "                                                                 \n",
      " conv2d_36 (Conv2D)          (None, 28, 28, 128)       73856     \n",
      "                                                                 \n",
      " max_pooling2d_22 (MaxPooli  (None, 14, 14, 128)       0         \n",
      " ng2D)                                                           \n",
      "                                                                 \n",
      " conv2d_37 (Conv2D)          (None, 12, 12, 128)       147584    \n",
      "                                                                 \n",
      " max_pooling2d_23 (MaxPooli  (None, 6, 6, 128)         0         \n",
      " ng2D)                                                           \n",
      "                                                                 \n",
      " flatten_18 (Flatten)        (None, 4608)              0         \n",
      "                                                                 \n",
      " dropout_5 (Dropout)         (None, 4608)              0         \n",
      "                                                                 \n",
      " dense_54 (Dense)            (None, 120)               553080    \n",
      "                                                                 \n",
      " dense_55 (Dense)            (None, 84)                10164     \n",
      "                                                                 \n",
      " dense_56 (Dense)            (None, 3)                 255       \n",
      "                                                                 \n",
      "=================================================================\n",
      "Total params: 804331 (3.07 MB)\n",
      "Trainable params: 804331 (3.07 MB)\n",
      "Non-trainable params: 0 (0.00 Byte)\n",
      "_________________________________________________________________\n"
     ]
    }
   ],
   "source": [
    "from keras.optimizers import RMSprop\n",
    "import pandas as pd\n",
    "\n",
    "model_altlenet = models.Sequential()\n",
    "\n",
    "# Layer 1: Convolutional layer with 32 filters of size 3x3, followed by max pooling\n",
    "model_altlenet.add(layers.Conv2D(32, kernel_size=(3, 3), activation='relu', input_shape=(128,128,3)))\n",
    "model_altlenet.add(layers.MaxPooling2D(pool_size=(2, 2)))\n",
    "\n",
    "# Layer 2: Convolutional layer with 64 filters of size 3x3, followed by max pooling\n",
    "model_altlenet.add(layers.Conv2D(64, kernel_size=(3, 3), activation='relu'))\n",
    "model_altlenet.add(layers.MaxPooling2D(pool_size=(2, 2)))\n",
    "\n",
    "# Layer 3: Convolutional layer with 128 filters of size 3x3, followed by max pooling\n",
    "model_altlenet.add(layers.Conv2D(128, kernel_size=(3, 3), activation='relu'))\n",
    "model_altlenet.add(layers.MaxPooling2D(pool_size=(2, 2)))\n",
    "\n",
    "# Layer 4: Convolutional layer with 128 filters of size 3x3, followed by max pooling\n",
    "model_altlenet.add(layers.Conv2D(128, kernel_size=(3, 3), activation='relu'))\n",
    "model_altlenet.add(layers.MaxPooling2D(pool_size=(2, 2)))\n",
    "\n",
    "# Flatten the feature maps to feed into fully connected layers\n",
    "model_altlenet.add(layers.Flatten())\n",
    "\n",
    "# Adding dropout prevents overfitting\n",
    "model_altlenet.add(layers.Dropout(0.2))\n",
    "\n",
    "# Layer 5: Fully connected layer with 120 neurons\n",
    "model_altlenet.add(layers.Dense(120, activation='relu'))\n",
    "\n",
    "# Layer 6: Fully connected layer with 84 neurons\n",
    "model_altlenet.add(layers.Dense(84, activation='relu'))\n",
    "\n",
    "# Output layer: Fully connected layer with num_classes neurons (e.g., 3 )\n",
    "model_altlenet.add(layers.Dense(3, activation='softmax'))\n",
    "\n",
    "# Compile model\n",
    "model_altlenet.compile(optimizer=RMSprop(learning_rate=1e-4), loss='sparse_categorical_crossentropy', metrics=['accuracy'])\n",
    "\n",
    "# Generating the summary of the model\n",
    "model_altlenet.summary()"
   ]
  },
  {
   "cell_type": "code",
   "execution_count": 70,
   "id": "55c0a9d0-e5d9-462a-a49c-e42c90fa885f",
   "metadata": {},
   "outputs": [
    {
     "name": "stdout",
     "output_type": "stream",
     "text": [
      "Epoch 1/20\n",
      "530/530 [==============================] - 127s 238ms/step - loss: 0.5727 - accuracy: 0.7210 - val_loss: 0.7622 - val_accuracy: 0.6805\n",
      "Epoch 2/20\n",
      "530/530 [==============================] - 123s 231ms/step - loss: 0.4021 - accuracy: 0.8263 - val_loss: 0.4625 - val_accuracy: 0.8041\n",
      "Epoch 3/20\n",
      "530/530 [==============================] - 118s 222ms/step - loss: 0.3221 - accuracy: 0.8662 - val_loss: 1.1519 - val_accuracy: 0.6902\n",
      "Epoch 4/20\n",
      "530/530 [==============================] - 124s 233ms/step - loss: 0.2438 - accuracy: 0.9042 - val_loss: 0.1946 - val_accuracy: 0.9272\n",
      "Epoch 5/20\n",
      "530/530 [==============================] - 141s 265ms/step - loss: 0.1847 - accuracy: 0.9275 - val_loss: 0.1418 - val_accuracy: 0.9433\n",
      "Epoch 6/20\n",
      "530/530 [==============================] - 125s 235ms/step - loss: 0.1487 - accuracy: 0.9406 - val_loss: 0.1452 - val_accuracy: 0.9449\n",
      "Epoch 7/20\n",
      "530/530 [==============================] - 135s 254ms/step - loss: 0.1318 - accuracy: 0.9481 - val_loss: 0.1155 - val_accuracy: 0.9568\n",
      "Epoch 8/20\n",
      "530/530 [==============================] - 123s 232ms/step - loss: 0.1175 - accuracy: 0.9555 - val_loss: 0.5638 - val_accuracy: 0.8103\n",
      "Epoch 9/20\n",
      "530/530 [==============================] - 120s 227ms/step - loss: 0.1073 - accuracy: 0.9577 - val_loss: 0.0922 - val_accuracy: 0.9629\n",
      "Epoch 10/20\n",
      "530/530 [==============================] - 123s 232ms/step - loss: 0.0997 - accuracy: 0.9605 - val_loss: 0.1541 - val_accuracy: 0.9419\n",
      "Epoch 11/20\n",
      "530/530 [==============================] - 118s 223ms/step - loss: 0.0896 - accuracy: 0.9648 - val_loss: 0.0844 - val_accuracy: 0.9643\n",
      "Epoch 12/20\n",
      "530/530 [==============================] - 120s 226ms/step - loss: 0.0823 - accuracy: 0.9673 - val_loss: 0.0855 - val_accuracy: 0.9650\n",
      "Epoch 13/20\n",
      "530/530 [==============================] - 118s 222ms/step - loss: 0.0778 - accuracy: 0.9714 - val_loss: 0.1450 - val_accuracy: 0.9518\n",
      "Epoch 14/20\n",
      "530/530 [==============================] - 121s 227ms/step - loss: 0.0742 - accuracy: 0.9730 - val_loss: 0.3375 - val_accuracy: 0.9024\n",
      "Epoch 15/20\n",
      "530/530 [==============================] - 127s 240ms/step - loss: 0.0696 - accuracy: 0.9732 - val_loss: 0.0732 - val_accuracy: 0.9728\n",
      "Epoch 16/20\n",
      "530/530 [==============================] - 118s 222ms/step - loss: 0.0640 - accuracy: 0.9764 - val_loss: 0.0758 - val_accuracy: 0.9735\n",
      "Epoch 17/20\n",
      "530/530 [==============================] - 129s 243ms/step - loss: 0.0568 - accuracy: 0.9783 - val_loss: 0.1035 - val_accuracy: 0.9634\n",
      "Epoch 18/20\n",
      "530/530 [==============================] - 120s 227ms/step - loss: 0.0560 - accuracy: 0.9798 - val_loss: 0.0801 - val_accuracy: 0.9740\n",
      "Epoch 19/20\n",
      "530/530 [==============================] - 120s 226ms/step - loss: 0.0518 - accuracy: 0.9812 - val_loss: 0.0855 - val_accuracy: 0.9733\n",
      "Epoch 20/20\n",
      "530/530 [==============================] - 129s 242ms/step - loss: 0.0501 - accuracy: 0.9819 - val_loss: 0.0728 - val_accuracy: 0.9773\n"
     ]
    }
   ],
   "source": [
    "#fit the model from image generator\n",
    "history_altlenet = model_altlenet.fit(\n",
    "            train_rescale_ds,\n",
    "            batch_size=32,\n",
    "            epochs=20,\n",
    "            validation_data=val_rescale_ds\n",
    ")"
   ]
  },
  {
   "cell_type": "code",
   "execution_count": 33,
   "id": "0702bbfb-e618-481c-a6e6-9c4ae5071046",
   "metadata": {},
   "outputs": [
    {
     "data": {
      "text/plain": [
       "0.9832214713096619"
      ]
     },
     "execution_count": 33,
     "metadata": {},
     "output_type": "execute_result"
    }
   ],
   "source": [
    "test_loss_altlenet, test_accuracy_altlenet = model_altlenet.evaluate(test_rescale_ds, verbose=0)\n",
    "test_accuracy_altlenet"
   ]
  },
  {
   "cell_type": "code",
   "execution_count": 71,
   "id": "479f2e50-5d81-4e73-b2aa-3db1ea43d0f4",
   "metadata": {},
   "outputs": [],
   "source": [
    "model_lenet5.save(\"models/altlenet.keras\")"
   ]
  },
  {
   "cell_type": "markdown",
   "id": "ad953404-bf57-4749-af8c-46a80ebafc1c",
   "metadata": {},
   "source": [
    "## Part 3"
   ]
  },
  {
   "cell_type": "code",
   "execution_count": 63,
   "id": "2451793f-153b-46b5-8b71-cceef9661942",
   "metadata": {},
   "outputs": [],
   "source": [
    "import requests"
   ]
  },
  {
   "cell_type": "code",
   "execution_count": 86,
   "id": "9bd6d80a-c541-4fe2-a903-e4783a8afe64",
   "metadata": {},
   "outputs": [],
   "source": [
    "import numpy as np\n",
    "# grab an entry from  -- here, we grab the first one\n",
    "iterator = iter(test_rescale_ds)\n",
    "\n",
    "l = iterator.get_next()[0].numpy().tolist()"
   ]
  },
  {
   "cell_type": "code",
   "execution_count": 82,
   "id": "a7cf6eaf-43e5-4f07-b095-a39d62c36293",
   "metadata": {},
   "outputs": [
    {
     "data": {
      "text/plain": [
       "{'result': [[0.365214079618454, 0.6347780227661133, 7.855040166759863e-06],\n",
       "  [0.06608804315328598, 0.9339077472686768, 4.163519406574778e-06],\n",
       "  [0.09341005235910416, 0.9065787196159363, 1.1243201697652694e-05],\n",
       "  [0.8905065059661865, 0.10949257761240005, 8.964684639067855e-07],\n",
       "  [0.0009334941860288382, 0.9990662932395935, 1.7873585989036656e-07],\n",
       "  [0.980830729007721, 0.01916562207043171, 3.576124981918838e-06],\n",
       "  [0.9869367480278015, 0.013055889867246151, 7.445906703651417e-06],\n",
       "  [0.9980077147483826, 0.0019904552027583122, 1.916544533742126e-06],\n",
       "  [0.9340019822120667, 0.06599751859903336, 5.926378321419179e-07],\n",
       "  [0.1867174357175827, 0.8132746815681458, 7.863062819524202e-06],\n",
       "  [0.4082598090171814, 0.5917390584945679, 1.1727588571375236e-06],\n",
       "  [0.8756382465362549, 0.12428555637598038, 7.616321818204597e-05],\n",
       "  [0.8489068746566772, 0.15100687742233276, 8.627916395198554e-05],\n",
       "  [0.006948060356080532, 0.993046224117279, 5.730778411816573e-06],\n",
       "  [0.008656494319438934, 0.9913411736488342, 2.3827733457437716e-06],\n",
       "  [0.9963526725769043, 0.003631393425166607, 1.5889107089606114e-05],\n",
       "  [0.6221101880073547, 0.37788155674934387, 8.243863703683019e-06],\n",
       "  [0.9994032382965088, 0.0005945363664068282, 2.2475828700407874e-06],\n",
       "  [0.9974849224090576, 0.002508668228983879, 6.388698238879442e-06],\n",
       "  [0.8640866875648499, 0.1359071135520935, 6.229028258530889e-06],\n",
       "  [0.9941887855529785, 0.005786759778857231, 2.4448036128887907e-05],\n",
       "  [0.942808210849762, 0.057175930589437485, 1.584835808898788e-05],\n",
       "  [0.9993357062339783, 0.0006622668006457388, 1.9937185697926907e-06],\n",
       "  [0.9982128143310547, 0.0017848220886662602, 2.407405872872914e-06],\n",
       "  [0.993055522441864, 0.006810884457081556, 0.00013369419320952147],\n",
       "  [0.002588142640888691, 0.9974083304405212, 3.5444347759039374e-06],\n",
       "  [0.9656949043273926, 0.034275513142347336, 2.9565100703621283e-05],\n",
       "  [0.07031373679637909, 0.9296637773513794, 2.2470436306321062e-05],\n",
       "  [0.9068557620048523, 0.09314049035310745, 3.7398538097477285e-06],\n",
       "  [0.5621012449264526, 0.4376453459262848, 0.00025339340209029615],\n",
       "  [0.954830527305603, 0.045169465243816376, 5.1148585811233716e-08],\n",
       "  [0.01763414777815342, 0.9823414087295532, 2.4411678168689832e-05]]}"
      ]
     },
     "execution_count": 82,
     "metadata": {},
     "output_type": "execute_result"
    }
   ],
   "source": [
    "# make the POST request passing the single test case as the `image` field:\n",
    "rsp = requests.post(\"http://172.17.0.1:5000/models\", json={\"image\": l})\n",
    "\n",
    "# print the json response\n",
    "rsp.json()"
   ]
  }
 ],
 "metadata": {
  "kernelspec": {
   "display_name": "Python 3 (ipykernel)",
   "language": "python",
   "name": "python3"
  },
  "language_info": {
   "codemirror_mode": {
    "name": "ipython",
    "version": 3
   },
   "file_extension": ".py",
   "mimetype": "text/x-python",
   "name": "python",
   "nbconvert_exporter": "python",
   "pygments_lexer": "ipython3",
   "version": "3.11.1"
  }
 },
 "nbformat": 4,
 "nbformat_minor": 5
}
