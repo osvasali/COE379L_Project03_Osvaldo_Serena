{
 "cells": [
  {
   "cell_type": "markdown",
   "id": "3f675411",
   "metadata": {},
   "source": [
    "# Project 2 Model Classification\n",
    "### Serena Shah, Osvaldo Salinas\n",
    "## Part 1"
   ]
  },
  {
   "cell_type": "markdown",
   "id": "b966bfb7",
   "metadata": {},
   "source": [
    "### Loading the Data"
   ]
  },
  {
   "cell_type": "code",
   "execution_count": 1,
   "id": "87799c56",
   "metadata": {},
   "outputs": [],
   "source": [
    "import os\n",
    "from pathlib import Path\n",
    "\n",
    "Path(\"data/train/damage\").mkdir(parents=True, exist_ok=True)\n",
    "Path(\"data/train/no_damage\").mkdir(parents=True, exist_ok=True)\n",
    "\n",
    "Path(\"data/test/damage\").mkdir(parents=True, exist_ok=True)\n",
    "Path(\"data/test/no_damage\").mkdir(parents=True, exist_ok=True)"
   ]
  },
  {
   "cell_type": "code",
   "execution_count": 2,
   "id": "e93b108e",
   "metadata": {},
   "outputs": [],
   "source": [
    "# we need paths of images for individual classes so we can copy them in the new directories that we created above\n",
    "\n",
    "damage_all_paths = os.listdir('data_all_modified/damage')\n",
    "no_damage_all_paths = os.listdir('data_all_modified/no_damage')"
   ]
  },
  {
   "cell_type": "code",
   "execution_count": 3,
   "id": "6ea54e28",
   "metadata": {},
   "outputs": [
    {
     "name": "stdout",
     "output_type": "stream",
     "text": [
      "...............\n",
      "train damage image count:  11336\n",
      "test damage image count:  2834\n",
      "len of overlap:  0\n",
      "...............\n",
      "\n",
      "...............\n",
      "train no damage image count:  5721\n",
      "test no damage image count:  1431\n",
      "len of overlap:  0\n",
      "...............\n",
      "\n"
     ]
    }
   ],
   "source": [
    "# split the image paths into train and test by randomly selecting 80% of the images in train and 20% in test.\n",
    "import random\n",
    "\n",
    "print(\"...............\")\n",
    "train_damage_paths = random.sample(damage_all_paths, int(len(damage_all_paths)*0.8))\n",
    "print(\"train damage image count: \", len(train_damage_paths))\n",
    "test_damage_paths = [ p for p in damage_all_paths if p not in train_damage_paths]\n",
    "print(\"test damage image count: \", len(test_damage_paths))\n",
    "# ensure no overlap:\n",
    "overlap = [p for p in train_damage_paths if p in test_damage_paths]\n",
    "print(\"len of overlap: \", len(overlap))\n",
    "print(\"...............\\n\")\n",
    "print(\"...............\")\n",
    "train_no_damage_paths = random.sample(no_damage_all_paths, int(len(no_damage_all_paths)*0.8))\n",
    "print(\"train no damage image count: \", len(train_no_damage_paths))\n",
    "test_no_damage_paths = [ p for p in no_damage_all_paths if p not in train_no_damage_paths]\n",
    "print(\"test no damage image count: \", len(test_no_damage_paths))\n",
    "# ensure no overlap:\n",
    "overlap = [p for p in train_no_damage_paths if p in test_no_damage_paths]\n",
    "print(\"len of overlap: \", len(overlap))\n",
    "print(\"...............\\n\")"
   ]
  },
  {
   "cell_type": "code",
   "execution_count": 4,
   "id": "2afad157",
   "metadata": {},
   "outputs": [
    {
     "name": "stdout",
     "output_type": "stream",
     "text": [
      "Files in train/damage:  14062\n",
      "Files in train/no_damage:  7102\n",
      "Files in test/damage:  6924\n",
      "Files in test/no_damage:  3506\n"
     ]
    }
   ],
   "source": [
    "# copying of files in the train and test directories\n",
    "import shutil\n",
    "\n",
    "root_dir = 'data_all_modified'\n",
    "split_root_dir = 'data'\n",
    "\n",
    "# Copy damaged images to train and test directories\n",
    "for p in train_damage_paths:\n",
    "    shutil.copyfile(os.path.join(root_dir, 'damage', p), os.path.join(split_root_dir, 'train/damage', p))\n",
    "\n",
    "for p in test_damage_paths:\n",
    "    shutil.copyfile(os.path.join(root_dir, 'damage', p), os.path.join(split_root_dir, 'test/damage', p))\n",
    "\n",
    "# Copy no damage images to train and test directories\n",
    "for p in train_no_damage_paths:\n",
    "    shutil.copyfile(os.path.join(root_dir, 'no_damage', p), os.path.join(split_root_dir, 'train/no_damage', p))\n",
    "\n",
    "for p in test_no_damage_paths:\n",
    "    shutil.copyfile(os.path.join(root_dir, 'no_damage', p), os.path.join(split_root_dir, 'test/no_damage', p))\n",
    "\n",
    "# Check counts to ensure files are copied correctly\n",
    "print(\"Files in train/damage: \", len(os.listdir(os.path.join(split_root_dir, \"train/damage\"))))\n",
    "print(\"Files in train/no_damage: \", len(os.listdir(os.path.join(split_root_dir, \"train/no_damage\"))))\n",
    "print(\"Files in test/damage: \", len(os.listdir(os.path.join(split_root_dir, \"test/damage\"))))\n",
    "print(\"Files in test/no_damage: \", len(os.listdir(os.path.join(split_root_dir, \"test/no_damage\"))))"
   ]
  },
  {
   "cell_type": "markdown",
   "id": "09d9cb1b",
   "metadata": {},
   "source": [
    "### Data preprocessing"
   ]
  },
  {
   "cell_type": "code",
   "execution_count": 5,
   "id": "8aac95c2",
   "metadata": {},
   "outputs": [
    {
     "name": "stderr",
     "output_type": "stream",
     "text": [
      "2024-04-11 00:16:23.122876: I tensorflow/core/util/port.cc:113] oneDNN custom operations are on. You may see slightly different numerical results due to floating-point round-off errors from different computation orders. To turn them off, set the environment variable `TF_ENABLE_ONEDNN_OPTS=0`.\n",
      "2024-04-11 00:16:23.193370: I external/local_tsl/tsl/cuda/cudart_stub.cc:31] Could not find cuda drivers on your machine, GPU will not be used.\n",
      "2024-04-11 00:16:23.576842: E external/local_xla/xla/stream_executor/cuda/cuda_dnn.cc:9261] Unable to register cuDNN factory: Attempting to register factory for plugin cuDNN when one has already been registered\n",
      "2024-04-11 00:16:23.576921: E external/local_xla/xla/stream_executor/cuda/cuda_fft.cc:607] Unable to register cuFFT factory: Attempting to register factory for plugin cuFFT when one has already been registered\n",
      "2024-04-11 00:16:23.644887: E external/local_xla/xla/stream_executor/cuda/cuda_blas.cc:1515] Unable to register cuBLAS factory: Attempting to register factory for plugin cuBLAS when one has already been registered\n",
      "2024-04-11 00:16:23.799908: I external/local_tsl/tsl/cuda/cudart_stub.cc:31] Could not find cuda drivers on your machine, GPU will not be used.\n",
      "2024-04-11 00:16:23.802055: I tensorflow/core/platform/cpu_feature_guard.cc:182] This TensorFlow binary is optimized to use available CPU instructions in performance-critical operations.\n",
      "To enable the following instructions: AVX2 AVX_VNNI FMA, in other operations, rebuild TensorFlow with the appropriate compiler flags.\n",
      "2024-04-11 00:16:28.471347: W tensorflow/compiler/tf2tensorrt/utils/py_utils.cc:38] TF-TRT Warning: Could not find TensorRT\n"
     ]
    },
    {
     "name": "stdout",
     "output_type": "stream",
     "text": [
      "Found 21164 files belonging to 2 classes.\n",
      "Using 16932 files for training.\n",
      "Using 4232 files for validation.\n"
     ]
    }
   ],
   "source": [
    "import tensorflow as tf\n",
    "from tensorflow.keras.layers import Rescaling\n",
    "train_data_dir = 'data/train/'\n",
    "\n",
    "batch_size = 32\n",
    "# target image size\n",
    "img_height = 128\n",
    "img_width = 128\n",
    "\n",
    "# note that subset=\"training\", \"validation\", \"both\", and dictates which dataset is returned\n",
    "train_ds, val_ds = tf.keras.utils.image_dataset_from_directory(\n",
    "train_data_dir,\n",
    "validation_split=0.2,\n",
    "subset=\"both\",\n",
    "seed=123,\n",
    "image_size=(img_height, img_width),\n",
    "batch_size=batch_size\n",
    ")\n",
    "rescale = Rescaling(scale=1.0/255)\n",
    "train_rescale_ds = train_ds.map(lambda image,label:(rescale(image),label))\n",
    "val_rescale_ds = val_ds.map(lambda image,label:(rescale(image),label))"
   ]
  },
  {
   "cell_type": "code",
   "execution_count": 65,
   "id": "ac06c011",
   "metadata": {},
   "outputs": [
    {
     "name": "stdout",
     "output_type": "stream",
     "text": [
      "Found 10430 files belonging to 2 classes.\n"
     ]
    }
   ],
   "source": [
    "test_data_dir = 'data/test/'\n",
    "\n",
    "batch_size = 1\n",
    "# target image size\n",
    "img_height = 128\n",
    "img_width = 128\n",
    "\n",
    "# note that subset=\"training\", \"validation\", \"both\", and dictates what is returned\n",
    "test_ds = tf.keras.utils.image_dataset_from_directory(\n",
    "test_data_dir,\n",
    "seed=123,\n",
    "image_size=(img_height, img_width),\n",
    ")\n",
    "\n",
    "# approach 1: manually rescale data --\n",
    "rescale = Rescaling(scale=1.0/255)\n",
    "test_rescale_ds = test_ds.map(lambda image,label:(rescale(image),label))"
   ]
  },
  {
   "cell_type": "markdown",
   "id": "e0b22c86",
   "metadata": {},
   "source": [
    "## Part 2\n",
    "### ANN"
   ]
  },
  {
   "cell_type": "code",
   "execution_count": 23,
   "id": "71695af5",
   "metadata": {},
   "outputs": [
    {
     "name": "stdout",
     "output_type": "stream",
     "text": [
      "Model: \"sequential_14\"\n",
      "_________________________________________________________________\n",
      " Layer (type)                Output Shape              Param #   \n",
      "=================================================================\n",
      " flatten_14 (Flatten)        (None, 49152)             0         \n",
      "                                                                 \n",
      " dense_42 (Dense)            (None, 120)               5898360   \n",
      "                                                                 \n",
      " dense_43 (Dense)            (None, 128)               15488     \n",
      "                                                                 \n",
      " dense_44 (Dense)            (None, 1)                 129       \n",
      "                                                                 \n",
      "=================================================================\n",
      "Total params: 5913977 (22.56 MB)\n",
      "Trainable params: 5913977 (22.56 MB)\n",
      "Non-trainable params: 0 (0.00 Byte)\n",
      "_________________________________________________________________\n"
     ]
    }
   ],
   "source": [
    "from keras.models import Sequential\n",
    "from keras.layers import Dense, Flatten\n",
    "\n",
    "model_ann = Sequential()\n",
    "\n",
    "# Flatten\n",
    "model_ann.add(Flatten(input_shape=(img_height, img_width, 3)))\n",
    "\n",
    "# Our input layer can have any number of perceptrons, we chose 2, however,\n",
    "# the input dimension must match the number of features in the independent variable -- therefore, we set\n",
    "# it to 4\n",
    "model_ann.add(Dense(120, input_shape = (img_height*img_width,), activation='relu'))\n",
    "\n",
    "# we can add any number of hidden layers with any number of perceptrons; here we choose 1 layer with 128 perceptrons. The\n",
    "# hidden layers should all use RELU\n",
    "model_ann.add(Dense(128, activation='relu'))\n",
    "\n",
    "# softmax activation function is selected for multi-label classification problems; there are 3 perceptrons in this\n",
    "# last layer because there are 2 target labels to predict (it matches the shape of y)\n",
    "model_ann.add(Dense(1, activation='sigmoid'))\n",
    "\n",
    "# compile model\n",
    "model_ann.compile(optimizer='adam', loss='binary_crossentropy', metrics=['accuracy'])\n",
    "\n",
    "# generating summary of model\n",
    "model_ann.summary()"
   ]
  },
  {
   "cell_type": "code",
   "execution_count": 24,
   "id": "b390b1b7-44aa-4ea3-aeb5-602975773f9f",
   "metadata": {},
   "outputs": [
    {
     "name": "stdout",
     "output_type": "stream",
     "text": [
      "Epoch 1/20\n"
     ]
    },
    {
     "name": "stderr",
     "output_type": "stream",
     "text": [
      "/usr/local/lib/python3.11/site-packages/tensorflow/python/util/dispatch.py:1260: SyntaxWarning: In loss categorical_crossentropy, expected y_pred.shape to be (batch_size, num_classes) with num_classes > 1. Received: y_pred.shape=(None, 1). Consider using 'binary_crossentropy' if you only have 2 classes.\n",
      "  return dispatch_target(*args, **kwargs)\n"
     ]
    },
    {
     "name": "stdout",
     "output_type": "stream",
     "text": [
      "530/530 [==============================] - 44s 82ms/step - loss: 0.0000e+00 - accuracy: 0.6678 - val_loss: 0.0000e+00 - val_accuracy: 0.6486\n",
      "Epoch 2/20\n",
      "530/530 [==============================] - 38s 72ms/step - loss: 0.0000e+00 - accuracy: 0.6684 - val_loss: 0.0000e+00 - val_accuracy: 0.6486\n",
      "Epoch 3/20\n",
      "530/530 [==============================] - 35s 65ms/step - loss: 0.0000e+00 - accuracy: 0.6684 - val_loss: 0.0000e+00 - val_accuracy: 0.6486\n",
      "Epoch 4/20\n",
      "530/530 [==============================] - 32s 59ms/step - loss: 0.0000e+00 - accuracy: 0.6684 - val_loss: 0.0000e+00 - val_accuracy: 0.6486\n",
      "Epoch 5/20\n",
      "530/530 [==============================] - 37s 69ms/step - loss: 0.0000e+00 - accuracy: 0.6684 - val_loss: 0.0000e+00 - val_accuracy: 0.6486\n",
      "Epoch 6/20\n",
      "530/530 [==============================] - 37s 70ms/step - loss: 0.0000e+00 - accuracy: 0.6684 - val_loss: 0.0000e+00 - val_accuracy: 0.6486\n",
      "Epoch 7/20\n",
      "530/530 [==============================] - 36s 67ms/step - loss: 0.0000e+00 - accuracy: 0.6684 - val_loss: 0.0000e+00 - val_accuracy: 0.6486\n",
      "Epoch 8/20\n",
      "530/530 [==============================] - 34s 64ms/step - loss: 0.0000e+00 - accuracy: 0.6684 - val_loss: 0.0000e+00 - val_accuracy: 0.6486\n",
      "Epoch 9/20\n",
      "530/530 [==============================] - 34s 63ms/step - loss: 0.0000e+00 - accuracy: 0.6684 - val_loss: 0.0000e+00 - val_accuracy: 0.6486\n",
      "Epoch 10/20\n",
      "530/530 [==============================] - 32s 61ms/step - loss: 0.0000e+00 - accuracy: 0.6684 - val_loss: 0.0000e+00 - val_accuracy: 0.6486\n",
      "Epoch 11/20\n",
      "530/530 [==============================] - 34s 64ms/step - loss: 0.0000e+00 - accuracy: 0.6684 - val_loss: 0.0000e+00 - val_accuracy: 0.6486\n",
      "Epoch 12/20\n",
      "530/530 [==============================] - 33s 62ms/step - loss: 0.0000e+00 - accuracy: 0.6684 - val_loss: 0.0000e+00 - val_accuracy: 0.6486\n",
      "Epoch 13/20\n",
      "530/530 [==============================] - 34s 64ms/step - loss: 0.0000e+00 - accuracy: 0.6684 - val_loss: 0.0000e+00 - val_accuracy: 0.6486\n",
      "Epoch 14/20\n",
      "530/530 [==============================] - 32s 59ms/step - loss: 0.0000e+00 - accuracy: 0.6684 - val_loss: 0.0000e+00 - val_accuracy: 0.6486\n",
      "Epoch 15/20\n",
      "530/530 [==============================] - 35s 66ms/step - loss: 0.0000e+00 - accuracy: 0.6684 - val_loss: 0.0000e+00 - val_accuracy: 0.6486\n",
      "Epoch 16/20\n",
      "530/530 [==============================] - 37s 69ms/step - loss: 0.0000e+00 - accuracy: 0.6684 - val_loss: 0.0000e+00 - val_accuracy: 0.6486\n",
      "Epoch 17/20\n",
      "530/530 [==============================] - 36s 68ms/step - loss: 0.0000e+00 - accuracy: 0.6684 - val_loss: 0.0000e+00 - val_accuracy: 0.6486\n",
      "Epoch 18/20\n",
      "530/530 [==============================] - 36s 68ms/step - loss: 0.0000e+00 - accuracy: 0.6684 - val_loss: 0.0000e+00 - val_accuracy: 0.6486\n",
      "Epoch 19/20\n",
      "530/530 [==============================] - 38s 72ms/step - loss: 0.0000e+00 - accuracy: 0.6684 - val_loss: 0.0000e+00 - val_accuracy: 0.6486\n",
      "Epoch 20/20\n",
      "530/530 [==============================] - 34s 64ms/step - loss: 0.0000e+00 - accuracy: 0.6684 - val_loss: 0.0000e+00 - val_accuracy: 0.6486\n"
     ]
    }
   ],
   "source": [
    "#fit the model from image generator\n",
    "history_ann = model_ann.fit(\n",
    "            train_rescale_ds,\n",
    "            batch_size=32,\n",
    "            epochs=20,\n",
    "            validation_data=val_rescale_ds\n",
    ")"
   ]
  },
  {
   "cell_type": "code",
   "execution_count": 25,
   "id": "d0e1754d-f754-4ef2-80c9-b8c7480594a9",
   "metadata": {},
   "outputs": [
    {
     "data": {
      "text/plain": [
       "0.6638542413711548"
      ]
     },
     "execution_count": 25,
     "metadata": {},
     "output_type": "execute_result"
    }
   ],
   "source": [
    "test_loss_ann, test_accuracy_ann = model_ann.evaluate(test_rescale_ds, verbose=0)\n",
    "test_accuracy_ann"
   ]
  },
  {
   "cell_type": "code",
   "execution_count": 26,
   "id": "b823b71e-8bff-4c0e-bc66-a29be96ca2ba",
   "metadata": {},
   "outputs": [],
   "source": [
    "model_ann.save(\"models/ann.keras\")"
   ]
  },
  {
   "cell_type": "markdown",
   "id": "44e13dc8-ede4-4201-909d-1a7df6ffa33a",
   "metadata": {},
   "source": [
    "### LeNet-5"
   ]
  },
  {
   "cell_type": "code",
   "execution_count": 106,
   "id": "e077cdd0-fcd9-4438-9bf7-0b11fddd3328",
   "metadata": {},
   "outputs": [
    {
     "name": "stdout",
     "output_type": "stream",
     "text": [
      "Model: \"sequential_19\"\n",
      "_________________________________________________________________\n",
      " Layer (type)                Output Shape              Param #   \n",
      "=================================================================\n",
      " conv2d_38 (Conv2D)          (None, 126, 126, 6)       168       \n",
      "                                                                 \n",
      " average_pooling2d_14 (Aver  (None, 63, 63, 6)         0         \n",
      " agePooling2D)                                                   \n",
      "                                                                 \n",
      " conv2d_39 (Conv2D)          (None, 61, 61, 16)        880       \n",
      "                                                                 \n",
      " average_pooling2d_15 (Aver  (None, 30, 30, 16)        0         \n",
      " agePooling2D)                                                   \n",
      "                                                                 \n",
      " flatten_19 (Flatten)        (None, 14400)             0         \n",
      "                                                                 \n",
      " dense_57 (Dense)            (None, 120)               1728120   \n",
      "                                                                 \n",
      " dense_58 (Dense)            (None, 84)                10164     \n",
      "                                                                 \n",
      " dense_59 (Dense)            (None, 2)                 170       \n",
      "                                                                 \n",
      "=================================================================\n",
      "Total params: 1739502 (6.64 MB)\n",
      "Trainable params: 1739502 (6.64 MB)\n",
      "Non-trainable params: 0 (0.00 Byte)\n",
      "_________________________________________________________________\n"
     ]
    }
   ],
   "source": [
    "from keras.models import Sequential\n",
    "from keras.layers import Dense, Flatten\n",
    "from keras.optimizers import RMSprop\n",
    "import pandas as pd\n",
    "\n",
    "model_lenet5 = models.Sequential()\n",
    "\n",
    "# Layer 1: Convolutional layer with 6 filters of size 3x3, followed by average pooling\n",
    "model_lenet5.add(layers.Conv2D(6, kernel_size=(3, 3), activation='relu', input_shape=(128,128,3)))\n",
    "model_lenet5.add(layers.AveragePooling2D(pool_size=(2, 2)))\n",
    "\n",
    "# Layer 2: Convolutional layer with 16 filters of size 3x3, followed by average pooling\n",
    "model_lenet5.add(layers.Conv2D(16, kernel_size=(3, 3), activation='relu'))\n",
    "model_lenet5.add(layers.AveragePooling2D(pool_size=(2, 2)))\n",
    "\n",
    "# Flatten the feature maps to feed into fully connected layers\n",
    "model_lenet5.add(layers.Flatten())\n",
    "\n",
    "# Layer 3: Fully connected layer with 120 neurons\n",
    "model_lenet5.add(layers.Dense(120, activation='relu'))\n",
    "\n",
    "# Layer 4: Fully connected layer with 84 neurons\n",
    "model_lenet5.add(layers.Dense(84, activation='relu'))\n",
    "\n",
    "# Output layer: Fully connected layer with num_classes neurons (e.g., 2 )\n",
    "model_lenet5.add(layers.Dense(2, activation='softmax'))\n",
    "\n",
    "# Compile model\n",
    "model_lenet5.compile(optimizer=RMSprop(learning_rate=1e-4), loss='sparse_categorical_crossentropy', metrics=['accuracy'])\n",
    "\n",
    "# Generating the summary of the model\n",
    "model_lenet5.summary()"
   ]
  },
  {
   "cell_type": "code",
   "execution_count": 107,
   "id": "d46f4c95-b6d4-42a7-99cf-ecafcfbeff50",
   "metadata": {},
   "outputs": [
    {
     "name": "stdout",
     "output_type": "stream",
     "text": [
      "Epoch 1/20\n",
      "530/530 [==============================] - 26s 46ms/step - loss: 0.5820 - accuracy: 0.7092 - val_loss: 0.5465 - val_accuracy: 0.7569\n",
      "Epoch 2/20\n",
      "530/530 [==============================] - 27s 51ms/step - loss: 0.4391 - accuracy: 0.8208 - val_loss: 0.4953 - val_accuracy: 0.7795\n",
      "Epoch 3/20\n",
      "530/530 [==============================] - 25s 46ms/step - loss: 0.3825 - accuracy: 0.8526 - val_loss: 0.4454 - val_accuracy: 0.8058\n",
      "Epoch 4/20\n",
      "530/530 [==============================] - 864s 2s/step - loss: 0.3519 - accuracy: 0.8681 - val_loss: 0.3512 - val_accuracy: 0.8651\n",
      "Epoch 5/20\n",
      "530/530 [==============================] - 26s 49ms/step - loss: 0.3263 - accuracy: 0.8790 - val_loss: 0.2964 - val_accuracy: 0.8897\n",
      "Epoch 6/20\n",
      "530/530 [==============================] - 26s 49ms/step - loss: 0.3001 - accuracy: 0.8897 - val_loss: 0.3262 - val_accuracy: 0.8752\n",
      "Epoch 7/20\n",
      "530/530 [==============================] - 27s 51ms/step - loss: 0.2791 - accuracy: 0.8973 - val_loss: 0.5406 - val_accuracy: 0.7878\n",
      "Epoch 8/20\n",
      "530/530 [==============================] - 27s 51ms/step - loss: 0.2565 - accuracy: 0.9045 - val_loss: 0.2715 - val_accuracy: 0.9022\n",
      "Epoch 9/20\n",
      "530/530 [==============================] - 25s 47ms/step - loss: 0.2384 - accuracy: 0.9108 - val_loss: 0.2416 - val_accuracy: 0.9024\n",
      "Epoch 10/20\n",
      "530/530 [==============================] - 26s 49ms/step - loss: 0.2224 - accuracy: 0.9171 - val_loss: 0.2183 - val_accuracy: 0.9190\n",
      "Epoch 11/20\n",
      "530/530 [==============================] - 28s 52ms/step - loss: 0.2033 - accuracy: 0.9234 - val_loss: 0.2716 - val_accuracy: 0.8854\n",
      "Epoch 12/20\n",
      "530/530 [==============================] - 26s 49ms/step - loss: 0.1881 - accuracy: 0.9258 - val_loss: 0.4411 - val_accuracy: 0.7930\n",
      "Epoch 13/20\n",
      "530/530 [==============================] - 27s 50ms/step - loss: 0.1744 - accuracy: 0.9325 - val_loss: 0.2256 - val_accuracy: 0.9206\n",
      "Epoch 14/20\n",
      "530/530 [==============================] - 28s 52ms/step - loss: 0.1585 - accuracy: 0.9395 - val_loss: 0.2037 - val_accuracy: 0.9133\n",
      "Epoch 15/20\n",
      "530/530 [==============================] - 25s 47ms/step - loss: 0.1484 - accuracy: 0.9435 - val_loss: 0.1787 - val_accuracy: 0.9315\n",
      "Epoch 16/20\n",
      "530/530 [==============================] - 25s 46ms/step - loss: 0.1363 - accuracy: 0.9483 - val_loss: 0.1944 - val_accuracy: 0.9301\n",
      "Epoch 17/20\n",
      "530/530 [==============================] - 30s 56ms/step - loss: 0.1256 - accuracy: 0.9501 - val_loss: 0.4219 - val_accuracy: 0.8466\n",
      "Epoch 18/20\n",
      "530/530 [==============================] - 25s 47ms/step - loss: 0.1221 - accuracy: 0.9546 - val_loss: 0.1512 - val_accuracy: 0.9421\n",
      "Epoch 19/20\n",
      "530/530 [==============================] - 27s 50ms/step - loss: 0.1135 - accuracy: 0.9572 - val_loss: 0.1543 - val_accuracy: 0.9397\n",
      "Epoch 20/20\n",
      "530/530 [==============================] - 27s 50ms/step - loss: 0.1081 - accuracy: 0.9585 - val_loss: 0.1682 - val_accuracy: 0.9331\n"
     ]
    }
   ],
   "source": [
    "#fit the model from image generator\n",
    "history = model_lenet5.fit(\n",
    "            train_rescale_ds,\n",
    "            batch_size=32,\n",
    "            epochs=20,\n",
    "            validation_data=val_rescale_ds\n",
    ")"
   ]
  },
  {
   "cell_type": "markdown",
   "id": "a345e710-0833-4660-8e47-4816aafe2bc5",
   "metadata": {},
   "source": [
    "The Lenet-5 model accuracy is shown below."
   ]
  },
  {
   "cell_type": "code",
   "execution_count": 108,
   "id": "a04ec671-19a0-46a5-9d78-394b237ecd28",
   "metadata": {},
   "outputs": [
    {
     "data": {
      "text/plain": [
       "0.9516778588294983"
      ]
     },
     "execution_count": 108,
     "metadata": {},
     "output_type": "execute_result"
    }
   ],
   "source": [
    "test_loss_lenet5, test_accuracy_lenet5 = model_lenet5.evaluate(test_rescale_ds, verbose=0)\n",
    "test_accuracy_lenet5"
   ]
  },
  {
   "cell_type": "code",
   "execution_count": 109,
   "id": "be9acbde-1967-4686-859a-5d2ecdcbcd96",
   "metadata": {},
   "outputs": [],
   "source": [
    "model_lenet5.save(\"models/lenet5.keras\")"
   ]
  },
  {
   "cell_type": "markdown",
   "id": "3f59fea5-15c6-4906-b464-b39c2200cb61",
   "metadata": {},
   "source": [
    "### Alt LeNet-5"
   ]
  },
  {
   "cell_type": "code",
   "execution_count": 110,
   "id": "c459c1dc-94f1-4187-b93e-5fa3d15827e0",
   "metadata": {},
   "outputs": [
    {
     "name": "stdout",
     "output_type": "stream",
     "text": [
      "Model: \"sequential_20\"\n",
      "_________________________________________________________________\n",
      " Layer (type)                Output Shape              Param #   \n",
      "=================================================================\n",
      " conv2d_40 (Conv2D)          (None, 126, 126, 32)      896       \n",
      "                                                                 \n",
      " max_pooling2d_24 (MaxPooli  (None, 63, 63, 32)        0         \n",
      " ng2D)                                                           \n",
      "                                                                 \n",
      " conv2d_41 (Conv2D)          (None, 61, 61, 64)        18496     \n",
      "                                                                 \n",
      " max_pooling2d_25 (MaxPooli  (None, 30, 30, 64)        0         \n",
      " ng2D)                                                           \n",
      "                                                                 \n",
      " conv2d_42 (Conv2D)          (None, 28, 28, 128)       73856     \n",
      "                                                                 \n",
      " max_pooling2d_26 (MaxPooli  (None, 14, 14, 128)       0         \n",
      " ng2D)                                                           \n",
      "                                                                 \n",
      " conv2d_43 (Conv2D)          (None, 12, 12, 128)       147584    \n",
      "                                                                 \n",
      " max_pooling2d_27 (MaxPooli  (None, 6, 6, 128)         0         \n",
      " ng2D)                                                           \n",
      "                                                                 \n",
      " flatten_20 (Flatten)        (None, 4608)              0         \n",
      "                                                                 \n",
      " dropout_6 (Dropout)         (None, 4608)              0         \n",
      "                                                                 \n",
      " dense_60 (Dense)            (None, 120)               553080    \n",
      "                                                                 \n",
      " dense_61 (Dense)            (None, 84)                10164     \n",
      "                                                                 \n",
      " dense_62 (Dense)            (None, 2)                 170       \n",
      "                                                                 \n",
      "=================================================================\n",
      "Total params: 804246 (3.07 MB)\n",
      "Trainable params: 804246 (3.07 MB)\n",
      "Non-trainable params: 0 (0.00 Byte)\n",
      "_________________________________________________________________\n"
     ]
    }
   ],
   "source": [
    "from keras.optimizers import RMSprop\n",
    "import pandas as pd\n",
    "\n",
    "model_altlenet = models.Sequential()\n",
    "\n",
    "# Layer 1: Convolutional layer with 32 filters of size 3x3, followed by max pooling\n",
    "model_altlenet.add(layers.Conv2D(32, kernel_size=(3, 3), activation='relu', input_shape=(128,128,3)))\n",
    "model_altlenet.add(layers.MaxPooling2D(pool_size=(2, 2)))\n",
    "\n",
    "# Layer 2: Convolutional layer with 64 filters of size 3x3, followed by max pooling\n",
    "model_altlenet.add(layers.Conv2D(64, kernel_size=(3, 3), activation='relu'))\n",
    "model_altlenet.add(layers.MaxPooling2D(pool_size=(2, 2)))\n",
    "\n",
    "# Layer 3: Convolutional layer with 128 filters of size 3x3, followed by max pooling\n",
    "model_altlenet.add(layers.Conv2D(128, kernel_size=(3, 3), activation='relu'))\n",
    "model_altlenet.add(layers.MaxPooling2D(pool_size=(2, 2)))\n",
    "\n",
    "# Layer 4: Convolutional layer with 128 filters of size 3x3, followed by max pooling\n",
    "model_altlenet.add(layers.Conv2D(128, kernel_size=(3, 3), activation='relu'))\n",
    "model_altlenet.add(layers.MaxPooling2D(pool_size=(2, 2)))\n",
    "\n",
    "# Flatten the feature maps to feed into fully connected layers\n",
    "model_altlenet.add(layers.Flatten())\n",
    "\n",
    "# Adding dropout prevents overfitting\n",
    "model_altlenet.add(layers.Dropout(0.2))\n",
    "\n",
    "# Layer 5: Fully connected layer with 120 neurons\n",
    "model_altlenet.add(layers.Dense(120, activation='relu'))\n",
    "\n",
    "# Layer 6: Fully connected layer with 84 neurons\n",
    "model_altlenet.add(layers.Dense(84, activation='relu'))\n",
    "\n",
    "# Output layer: Fully connected layer with num_classes neurons (e.g., 2 )\n",
    "model_altlenet.add(layers.Dense(2, activation='softmax'))\n",
    "\n",
    "# Compile model\n",
    "model_altlenet.compile(optimizer=RMSprop(learning_rate=1e-4), loss='sparse_categorical_crossentropy', metrics=['accuracy'])\n",
    "\n",
    "# Generating the summary of the model\n",
    "model_altlenet.summary()"
   ]
  },
  {
   "cell_type": "code",
   "execution_count": 111,
   "id": "55c0a9d0-e5d9-462a-a49c-e42c90fa885f",
   "metadata": {},
   "outputs": [
    {
     "name": "stdout",
     "output_type": "stream",
     "text": [
      "Epoch 1/20\n",
      "530/530 [==============================] - 129s 240ms/step - loss: 0.5395 - accuracy: 0.7384 - val_loss: 0.6243 - val_accuracy: 0.7143\n",
      "Epoch 2/20\n",
      "530/530 [==============================] - 133s 251ms/step - loss: 0.3838 - accuracy: 0.8363 - val_loss: 0.3057 - val_accuracy: 0.8745\n",
      "Epoch 3/20\n",
      "530/530 [==============================] - 122s 229ms/step - loss: 0.2810 - accuracy: 0.8867 - val_loss: 0.2878 - val_accuracy: 0.8800\n",
      "Epoch 4/20\n",
      "530/530 [==============================] - 1433s 3s/step - loss: 0.2037 - accuracy: 0.9206 - val_loss: 0.2744 - val_accuracy: 0.8833\n",
      "Epoch 5/20\n",
      "530/530 [==============================] - 122s 229ms/step - loss: 0.1584 - accuracy: 0.9376 - val_loss: 0.4540 - val_accuracy: 0.8199\n",
      "Epoch 6/20\n",
      "530/530 [==============================] - 125s 235ms/step - loss: 0.1365 - accuracy: 0.9475 - val_loss: 0.1799 - val_accuracy: 0.9289\n",
      "Epoch 7/20\n",
      "530/530 [==============================] - 122s 229ms/step - loss: 0.1206 - accuracy: 0.9526 - val_loss: 0.1034 - val_accuracy: 0.9572\n",
      "Epoch 8/20\n",
      "530/530 [==============================] - 119s 224ms/step - loss: 0.1069 - accuracy: 0.9575 - val_loss: 0.1365 - val_accuracy: 0.9518\n",
      "Epoch 9/20\n",
      "530/530 [==============================] - 122s 230ms/step - loss: 0.1007 - accuracy: 0.9598 - val_loss: 0.1214 - val_accuracy: 0.9513\n",
      "Epoch 10/20\n",
      "530/530 [==============================] - 120s 226ms/step - loss: 0.0911 - accuracy: 0.9653 - val_loss: 0.1840 - val_accuracy: 0.9348\n",
      "Epoch 11/20\n",
      "530/530 [==============================] - 131s 247ms/step - loss: 0.0837 - accuracy: 0.9673 - val_loss: 0.1359 - val_accuracy: 0.9490\n",
      "Epoch 12/20\n",
      "530/530 [==============================] - 132s 248ms/step - loss: 0.0784 - accuracy: 0.9704 - val_loss: 0.0756 - val_accuracy: 0.9716\n",
      "Epoch 13/20\n",
      "530/530 [==============================] - 132s 249ms/step - loss: 0.0703 - accuracy: 0.9753 - val_loss: 0.0775 - val_accuracy: 0.9707\n",
      "Epoch 14/20\n",
      "530/530 [==============================] - 134s 252ms/step - loss: 0.0677 - accuracy: 0.9755 - val_loss: 0.1011 - val_accuracy: 0.9643\n",
      "Epoch 15/20\n",
      "530/530 [==============================] - 128s 241ms/step - loss: 0.0617 - accuracy: 0.9785 - val_loss: 0.0788 - val_accuracy: 0.9731\n",
      "Epoch 16/20\n",
      "530/530 [==============================] - 121s 229ms/step - loss: 0.0571 - accuracy: 0.9790 - val_loss: 0.0791 - val_accuracy: 0.9712\n",
      "Epoch 17/20\n",
      "530/530 [==============================] - 120s 227ms/step - loss: 0.0535 - accuracy: 0.9806 - val_loss: 0.0704 - val_accuracy: 0.9728\n",
      "Epoch 18/20\n",
      "530/530 [==============================] - 122s 229ms/step - loss: 0.0506 - accuracy: 0.9822 - val_loss: 0.0781 - val_accuracy: 0.9719\n",
      "Epoch 19/20\n",
      "530/530 [==============================] - 122s 230ms/step - loss: 0.0472 - accuracy: 0.9826 - val_loss: 0.0678 - val_accuracy: 0.9771\n",
      "Epoch 20/20\n",
      "530/530 [==============================] - 127s 240ms/step - loss: 0.0438 - accuracy: 0.9852 - val_loss: 0.0722 - val_accuracy: 0.9745\n"
     ]
    }
   ],
   "source": [
    "#fit the model from image generator\n",
    "history_altlenet = model_altlenet.fit(\n",
    "            train_rescale_ds,\n",
    "            batch_size=32,\n",
    "            epochs=20,\n",
    "            validation_data=val_rescale_ds\n",
    ")"
   ]
  },
  {
   "cell_type": "code",
   "execution_count": 112,
   "id": "0702bbfb-e618-481c-a6e6-9c4ae5071046",
   "metadata": {},
   "outputs": [
    {
     "data": {
      "text/plain": [
       "0.9843720197677612"
      ]
     },
     "execution_count": 112,
     "metadata": {},
     "output_type": "execute_result"
    }
   ],
   "source": [
    "test_loss_altlenet, test_accuracy_altlenet = model_altlenet.evaluate(test_rescale_ds, verbose=0)\n",
    "test_accuracy_altlenet"
   ]
  },
  {
   "cell_type": "code",
   "execution_count": 113,
   "id": "479f2e50-5d81-4e73-b2aa-3db1ea43d0f4",
   "metadata": {},
   "outputs": [],
   "source": [
    "model_lenet5.save(\"models/altlenet.keras\")"
   ]
  },
  {
   "cell_type": "markdown",
   "id": "ad953404-bf57-4749-af8c-46a80ebafc1c",
   "metadata": {},
   "source": [
    "## Part 3\n",
    "Using Alternate Lenet"
   ]
  },
  {
   "cell_type": "code",
   "execution_count": 114,
   "id": "2451793f-153b-46b5-8b71-cceef9661942",
   "metadata": {},
   "outputs": [],
   "source": [
    "import requests\n",
    "from PIL import Image"
   ]
  },
  {
   "cell_type": "code",
   "execution_count": 127,
   "id": "9bd6d80a-c541-4fe2-a903-e4783a8afe64",
   "metadata": {},
   "outputs": [],
   "source": [
    "import numpy as np\n",
    "# test an image (and serialize)\n",
    "l = np.array(Image.open('data/test/damage/-93.75005_30.079019.jpeg')).tolist()"
   ]
  },
  {
   "cell_type": "code",
   "execution_count": 128,
   "id": "a7cf6eaf-43e5-4f07-b095-a39d62c36293",
   "metadata": {},
   "outputs": [
    {
     "data": {
      "text/plain": [
       "{'result': [[1.0, 0.0]]}"
      ]
     },
     "execution_count": 128,
     "metadata": {},
     "output_type": "execute_result"
    }
   ],
   "source": [
    "# make the POST request passing the single test case as the `image` field:\n",
    "rsp = requests.post(\"http://172.17.0.1:5000/models\", json={\"image\": l})\n",
    "\n",
    "# print the json response\n",
    "rsp.json()"
   ]
  },
  {
   "cell_type": "code",
   "execution_count": 129,
   "id": "91e1959b-22e0-4fe6-b67e-f5d4488c1260",
   "metadata": {},
   "outputs": [
    {
     "data": {
      "text/plain": [
       "['damage', 'no_damage']"
      ]
     },
     "execution_count": 129,
     "metadata": {},
     "output_type": "execute_result"
    }
   ],
   "source": [
    "class_names = train_ds.class_names\n",
    "class_names"
   ]
  },
  {
   "cell_type": "markdown",
   "id": "d9842d6f-ad93-42ad-a4ef-3595242c960b",
   "metadata": {},
   "source": [
    "Correct labeling"
   ]
  },
  {
   "cell_type": "code",
   "execution_count": null,
   "id": "7e22e91f-2a10-4579-b500-1d9d3edff5c0",
   "metadata": {},
   "outputs": [],
   "source": []
  }
 ],
 "metadata": {
  "kernelspec": {
   "display_name": "Python 3 (ipykernel)",
   "language": "python",
   "name": "python3"
  },
  "language_info": {
   "codemirror_mode": {
    "name": "ipython",
    "version": 3
   },
   "file_extension": ".py",
   "mimetype": "text/x-python",
   "name": "python",
   "nbconvert_exporter": "python",
   "pygments_lexer": "ipython3",
   "version": "3.11.1"
  }
 },
 "nbformat": 4,
 "nbformat_minor": 5
}
