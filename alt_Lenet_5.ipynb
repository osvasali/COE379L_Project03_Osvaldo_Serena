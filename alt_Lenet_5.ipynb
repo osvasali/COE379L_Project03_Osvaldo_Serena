{
 "cells": [
  {
   "cell_type": "markdown",
   "id": "4488cdfc-c157-4000-a439-27c1073db716",
   "metadata": {},
   "source": [
    "# Project 2 Model Classification\n",
    "### Serena Shah, Osvaldo Salinas\n",
    "## Part 1"
   ]
  },
  {
   "cell_type": "markdown",
   "id": "52a9be31-3317-4f23-8564-c466a2347eb1",
   "metadata": {},
   "source": [
    "### Loading the Data"
   ]
  },
  {
   "cell_type": "code",
   "execution_count": 7,
   "id": "e93b108e",
   "metadata": {},
   "outputs": [],
   "source": [
    "import os\n",
    "damage_all_paths = os.listdir('data_all_modified/damage')\n",
    "no_damage_all_paths = os.listdir('data_all_modified/no_damage')"
   ]
  },
  {
   "cell_type": "code",
   "execution_count": 13,
   "id": "6ea54e28",
   "metadata": {},
   "outputs": [
    {
     "name": "stdout",
     "output_type": "stream",
     "text": [
      "...............\n",
      "train damage image count:  11336\n",
      "test damage image count:  2834\n",
      "len of overlap:  0\n",
      "...............\n",
      "\n",
      "...............\n",
      "train no damage image count:  5721\n",
      "test no damage image count:  1431\n",
      "len of overlap:  0\n",
      "...............\n"
     ]
    }
   ],
   "source": [
    "import random\n",
    "\n",
    "print(\"...............\")\n",
    "train_damage_paths = random.sample(damage_all_paths, int(len(damage_all_paths)*0.8))\n",
    "print(\"train damage image count: \", len(train_damage_paths))\n",
    "test_damage_paths = [ p for p in damage_all_paths if p not in train_damage_paths]\n",
    "print(\"test damage image count: \", len(test_damage_paths))\n",
    "# ensure no overlap:\n",
    "overlap = [p for p in train_damage_paths if p in test_damage_paths]\n",
    "print(\"len of overlap: \", len(overlap))\n",
    "print(\"...............\\n\")\n",
    "print(\"...............\")\n",
    "train_no_damage_paths = random.sample(no_damage_all_paths, int(len(no_damage_all_paths)*0.8))\n",
    "print(\"train no damage image count: \", len(train_no_damage_paths))\n",
    "test_no_damage_paths = [ p for p in no_damage_all_paths if p not in train_no_damage_paths]\n",
    "print(\"test no damage image count: \", len(test_no_damage_paths))\n",
    "# ensure no overlap:\n",
    "overlap = [p for p in train_no_damage_paths if p in test_no_damage_paths]\n",
    "print(\"len of overlap: \", len(overlap))\n",
    "print(\"...............\\n\")"
   ]
  },
  {
   "cell_type": "code",
   "execution_count": 16,
   "id": "b24ee27b",
   "metadata": {},
   "outputs": [],
   "source": [
    "from pathlib import Path\n",
    "\n",
    "Path(\"data/train/damage\").mkdir(parents=True, exist_ok=True)\n",
    "Path(\"data/train/no_damage\").mkdir(parents=True, exist_ok=True)\n",
    "\n",
    "Path(\"data/test/damage\").mkdir(parents=True, exist_ok=True)\n",
    "Path(\"data/test/no_damage\").mkdir(parents=True, exist_ok=True)"
   ]
  },
  {
   "cell_type": "code",
   "execution_count": 17,
   "id": "2afad157",
   "metadata": {},
   "outputs": [
    {
     "name": "stdout",
     "output_type": "stream",
     "text": [
      "Files in train/damage:  11336\n",
      "Files in train/no_damage:  5721\n",
      "Files in test/damage:  2834\n",
      "Files in test/no_damage:  1431\n"
     ]
    }
   ],
   "source": [
    "import shutil\n",
    "\n",
    "root_dir = 'data_all_modified'\n",
    "split_root_dir = 'data'\n",
    "\n",
    "# Copy damaged images to train and test directories\n",
    "for p in train_damage_paths:\n",
    "    shutil.copyfile(os.path.join(root_dir, 'damage', p), os.path.join(split_root_dir, 'train/damage', p))\n",
    "\n",
    "for p in test_damage_paths:\n",
    "    shutil.copyfile(os.path.join(root_dir, 'damage', p), os.path.join(split_root_dir, 'test/damage', p))\n",
    "\n",
    "# Copy no damage images to train and test directories\n",
    "for p in train_no_damage_paths:\n",
    "    shutil.copyfile(os.path.join(root_dir, 'no_damage', p), os.path.join(split_root_dir, 'train/no_damage', p))\n",
    "\n",
    "for p in test_no_damage_paths:\n",
    "    shutil.copyfile(os.path.join(root_dir, 'no_damage', p), os.path.join(split_root_dir, 'test/no_damage', p))\n",
    "\n",
    "# Check counts to ensure files are copied correctly\n",
    "print(\"Files in train/damage: \", len(os.listdir(os.path.join(split_root_dir, \"train/damage\"))))\n",
    "print(\"Files in train/no_damage: \", len(os.listdir(os.path.join(split_root_dir, \"train/no_damage\"))))\n",
    "print(\"Files in test/damage: \", len(os.listdir(os.path.join(split_root_dir, \"test/damage\"))))\n",
    "print(\"Files in test/no_damage: \", len(os.listdir(os.path.join(split_root_dir, \"test/no_damage\"))))"
   ]
  },
  {
   "cell_type": "markdown",
   "id": "b9a3dfdd-3446-4ed9-b6eb-ede6f25a4e0e",
   "metadata": {},
   "source": [
    "### Data preprocessing"
   ]
  },
  {
   "cell_type": "code",
   "execution_count": 2,
   "id": "e5f27a1e",
   "metadata": {},
   "outputs": [
    {
     "name": "stdout",
     "output_type": "stream",
     "text": [
      "Found 17057 files belonging to 2 classes.\n",
      "Using 13646 files for training.\n",
      "Using 3411 files for validation.\n",
      "Found 4265 files belonging to 2 classes.\n"
     ]
    }
   ],
   "source": [
    "import tensorflow as tf\n",
    "from tensorflow.keras.layers import Rescaling\n",
    "\n",
    "train_data_dir = 'data/train/'\n",
    "test_data_dir = 'data/test/'\n",
    "\n",
    "# Adjusting the target image size to 224x224 for compatibility with VGG16\n",
    "img_height = 128\n",
    "img_width = 128\n",
    "\n",
    "# Adjusting batch size for training\n",
    "batch_size_train = 32\n",
    "# Adjusting batch size for testing to keep it consistent with training\n",
    "batch_size_test = 32\n",
    "\n",
    "# Loading and preprocessing training and validation dataset\n",
    "train_ds, val_ds = tf.keras.utils.image_dataset_from_directory(\n",
    "    train_data_dir,\n",
    "    validation_split=0.2,\n",
    "    subset=\"both\",\n",
    "    seed=123,\n",
    "    image_size=(img_height, img_width),\n",
    "    batch_size=batch_size_train\n",
    ")\n",
    "\n",
    "rescale = Rescaling(scale=1.0/255)\n",
    "train_rescale_ds = train_ds.map(lambda image, label: (rescale(image), label))\n",
    "val_rescale_ds = val_ds.map(lambda image, label: (rescale(image), label))\n",
    "\n",
    "# Loading and preprocessing test dataset\n",
    "test_ds = tf.keras.utils.image_dataset_from_directory(\n",
    "    test_data_dir,\n",
    "    seed=123,\n",
    "    image_size=(img_height, img_width),\n",
    "    batch_size=batch_size_test\n",
    ")\n",
    "\n",
    "test_rescale_ds = test_ds.map(lambda image,label:(rescale(image),label))"
   ]
  },
  {
   "cell_type": "markdown",
   "id": "3439b18f-18f3-44fe-a690-cd4e24efd5e0",
   "metadata": {},
   "source": [
    "## Part 2\n",
    "#### Alernative Lenet-5 (as described in the research paper https://arxiv.org/pdf/1807.01688.pdf)"
   ]
  },
  {
   "cell_type": "code",
   "execution_count": 5,
   "id": "50994924-f13f-44a6-bca7-a8fa5cc42940",
   "metadata": {},
   "outputs": [
    {
     "name": "stdout",
     "output_type": "stream",
     "text": [
      "Found 17057 files belonging to 2 classes.\n",
      "Using 13646 files for training.\n",
      "Using 3411 files for validation.\n",
      "Found 4265 files belonging to 2 classes.\n"
     ]
    }
   ],
   "source": [
    "import tensorflow as tf\n",
    "from tensorflow.keras.models import Sequential\n",
    "from tensorflow.keras.layers import Conv2D, MaxPooling2D, Flatten, Dense, Dropout, BatchNormalization, Rescaling\n",
    "from tensorflow.keras.optimizers import Adam\n",
    "\n",
    "train_data_dir = 'data/train/'\n",
    "test_data_dir = 'data/test/'\n",
    "\n",
    "img_height = 128\n",
    "img_width = 128\n",
    "batch_size_train = 32\n",
    "\n",
    "# Define model architecture\n",
    "def build_model(input_shape):\n",
    "    model = Sequential([\n",
    "        Rescaling(scale=1.0/255, input_shape=input_shape), # Rescaling layer as part of the model\n",
    "        Conv2D(32, (3, 3), activation='relu'),\n",
    "        BatchNormalization(),\n",
    "        MaxPooling2D((2, 2)),\n",
    "        Conv2D(64, (3, 3), activation='relu'),\n",
    "        BatchNormalization(),\n",
    "        MaxPooling2D((2, 2)),\n",
    "        Conv2D(128, (3, 3), activation='relu'),\n",
    "        BatchNormalization(),\n",
    "        MaxPooling2D((2, 2)),\n",
    "        Flatten(),\n",
    "        Dense(512, activation='relu'),\n",
    "        Dropout(0.5),\n",
    "        Dense(1, activation='sigmoid')\n",
    "    ])\n",
    "    return model\n",
    "\n",
    "# Load and preprocess datasets\n",
    "train_ds, val_ds = tf.keras.utils.image_dataset_from_directory(\n",
    "    train_data_dir,\n",
    "    validation_split=0.2,\n",
    "    subset=\"both\",\n",
    "    seed=123,\n",
    "    image_size=(img_height, img_width),\n",
    "    batch_size=batch_size_train\n",
    ")\n",
    "\n",
    "test_ds = tf.keras.utils.image_dataset_from_directory(\n",
    "    test_data_dir,\n",
    "    seed=123,\n",
    "    image_size=(img_height, img_width),\n",
    "    batch_size=batch_size_train\n",
    ")"
   ]
  },
  {
   "cell_type": "code",
   "execution_count": 6,
   "id": "ad4ede1b-ee43-4e3a-affc-34b8daa0bf05",
   "metadata": {},
   "outputs": [],
   "source": [
    "# Model compilation\n",
    "input_shape = (img_height, img_width, 3)  # Adjusting the input shape\n",
    "model = build_model(input_shape)\n",
    "model.compile(optimizer=Adam(learning_rate=0.001),\n",
    "              loss='binary_crossentropy',\n",
    "              metrics=['accuracy', tf.keras.metrics.AUC()])"
   ]
  },
  {
   "cell_type": "code",
   "execution_count": 7,
   "id": "30cb61c7-623a-4db6-86b3-89c98a981abe",
   "metadata": {},
   "outputs": [],
   "source": [
    "# Implement learning rate scheduling\n",
    "lr_schedule = tf.keras.callbacks.ReduceLROnPlateau(monitor='val_loss', factor=0.2, patience=5, min_lr=0.001)"
   ]
  },
  {
   "cell_type": "code",
   "execution_count": null,
   "id": "e1941d6a-2b3a-4c02-999c-b34a72a9c310",
   "metadata": {},
   "outputs": [
    {
     "name": "stdout",
     "output_type": "stream",
     "text": [
      "Epoch 1/30\n",
      "258/427 [=================>............] - ETA: 7:40 - loss: 1.3182 - accuracy: 0.8729 - auc_2: 0.9014"
     ]
    }
   ],
   "source": [
    "# Model training\n",
    "history = model.fit(train_ds,\n",
    "                    validation_data=val_ds,\n",
    "                    epochs=30,  # Adjust based on the convergence of your model\n",
    "                    batch_size=batch_size_train,\n",
    "                    callbacks=[lr_schedule])"
   ]
  },
  {
   "cell_type": "code",
   "execution_count": null,
   "id": "1677107b-2167-48c6-9940-adce05ea4899",
   "metadata": {},
   "outputs": [],
   "source": [
    "# Model evaluation\n",
    "test_ds = test_loss, test_acc, test_auc = model.evaluate(test_ds)\n",
    "print(f\"Test Accuracy: {test_acc}, Test AUC: {test_auc}\")"
   ]
  },
  {
   "cell_type": "code",
   "execution_count": null,
   "id": "6e427eaa-2716-4dea-a2be-dd245856c959",
   "metadata": {},
   "outputs": [],
   "source": [
    "# Implement learning rate scheduling\n",
    "lr_schedule = tf.keras.callbacks.ReduceLROnPlateau(monitor='val_loss', factor=0.2, patience=5, min_lr=0.001)"
   ]
  }
 ],
 "metadata": {
  "kernelspec": {
   "display_name": "Python 3 (ipykernel)",
   "language": "python",
   "name": "python3"
  },
  "language_info": {
   "codemirror_mode": {
    "name": "ipython",
    "version": 3
   },
   "file_extension": ".py",
   "mimetype": "text/x-python",
   "name": "python",
   "nbconvert_exporter": "python",
   "pygments_lexer": "ipython3",
   "version": "3.11.6"
  }
 },
 "nbformat": 4,
 "nbformat_minor": 5
}
